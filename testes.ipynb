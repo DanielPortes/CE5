{
 "cells": [
  {
   "cell_type": "code",
   "execution_count": 91,
   "outputs": [],
   "source": [
    "import numpy as np\n",
    "import matplotlib.pyplot as pl\n",
    "import pandas as pd\n",
    "from pandas import Series\n",
    "\n",
    "from sklearn.preprocessing import MinMaxScaler\n",
    "from tensorflow import keras\n",
    "from keras.models import Sequential, Model\n",
    "from keras.layers import Dense, LSTM, CuDNNLSTM\n",
    "from sklearn.metrics import mean_squared_error, mean_absolute_error\n",
    "\n",
    "import tensorflow as tf"
   ],
   "metadata": {
    "collapsed": false,
    "ExecuteTime": {
     "end_time": "2023-07-04T05:23:11.803656Z",
     "start_time": "2023-07-04T05:23:11.774094300Z"
    }
   }
  },
  {
   "cell_type": "code",
   "execution_count": 92,
   "outputs": [],
   "source": [
    "csv_path = 'inp/IBIRITE (ROLA MOCA)_MG.csv'"
   ],
   "metadata": {
    "collapsed": false,
    "ExecuteTime": {
     "end_time": "2023-07-04T05:23:11.849714100Z",
     "start_time": "2023-07-04T05:23:11.777102900Z"
    }
   }
  },
  {
   "cell_type": "code",
   "execution_count": 93,
   "outputs": [
    {
     "data": {
      "text/plain": "            DATE     Chuva  $Pressão_{Inst}$  $Pressão_{Max}$  \\\n0     2008-06-06  0.000000        886.500000       886.533333   \n1     2008-06-07  0.000000        887.037500       887.250000   \n2     2008-06-08  0.000000        886.783333       886.983333   \n3     2008-06-09  0.000000        886.341667       886.516667   \n4     2008-06-10  0.000000        885.012500       885.220833   \n...          ...       ...               ...              ...   \n4792  2021-12-27  0.000000        880.675000       880.900000   \n4793  2021-12-28  0.983333        881.758333       882.012500   \n4794  2021-12-29  0.150000        883.337500       883.616667   \n4795  2021-12-30  1.008333        881.166667       881.458333   \n4796  2021-12-31  1.025000        879.704167       879.970833   \n\n      $Pressão_{Min}$  $Temperatura_{Inst}$  $Orvalho_{Inst}$  \\\n0          886.300000             21.100000         10.500000   \n1          886.854167             19.458333         10.083333   \n2          886.583333             19.095833         10.504167   \n3          886.204167             18.700000         12.312500   \n4          884.820833             18.529167         11.920833   \n...               ...                   ...               ...   \n4792       880.425000             22.075000         14.425000   \n4793       881.445833             21.458333         15.970833   \n4794       883.075000             19.704167         16.345833   \n4795       880.958333             18.454167         16.762500   \n4796       879.454167             17.395833         16.145833   \n\n      $Temperatura_{Max}$  $Temperatura_{Min}$  $Orvalho_{Max}$  ...  \\\n0               22.333333            20.900000        10.766667  ...   \n1               20.016667            18.770833        10.637500  ...   \n2               19.704167            18.458333        11.054167  ...   \n3               19.304167            18.079167        12.662500  ...   \n4               19.291667            17.795833        12.566667  ...   \n...                   ...                  ...              ...  ...   \n4792            22.783333            21.395833        15.054167  ...   \n4793            22.525000            20.708333        16.695833  ...   \n4794            20.341667            19.187500        16.850000  ...   \n4795            18.820833            18.204167        17.050000  ...   \n4796            17.770833            17.129167        16.479167  ...   \n\n      $Umidade_{Min}$  $Umidade_{Inst}$  $Vento_{Dir}$  $Vento_{Raj}$  \\\n0           48.333333         51.666667      56.333333       6.233333   \n1           54.000000         56.458333      76.458333       6.604167   \n2           55.458333         58.750000      79.791667       8.570833   \n3           64.541667         67.583333     125.875000       7.779167   \n4           64.916667         67.833333     139.625000       4.750000   \n...               ...               ...            ...            ...   \n4792        60.291667         63.416667     174.083333       6.562500   \n4793        68.333333         72.875000     176.750000       7.200000   \n4794        78.791667         82.000000     131.375000       5.400000   \n4795        88.375000         89.875000      98.000000       5.812500   \n4796        90.833333         92.416667      37.333333      10.283333   \n\n      $Vento_{Vel}$   GLOBAL   Latitude  Longitude  Altitude         Qo  \n0          3.133333   1.9223 -20.031457 -44.011249   1198.82   2.195897  \n1          3.537500  19.2513 -20.031457 -44.011249   1198.82  24.544495  \n2          4.383333  17.9175 -20.031457 -44.011249   1198.82  24.486118  \n3          4.033333  16.2483 -20.031457 -44.011249   1198.82  24.430901  \n4          2.329167  13.3562 -20.031457 -44.011249   1198.82  24.378872  \n...             ...      ...        ...        ...       ...        ...  \n4792       1.462500  26.3813 -20.031457 -44.011249   1198.82  42.703244  \n4793       1.875000  23.1625 -20.031457 -44.011249   1198.82  42.712820  \n4794       0.254167  18.4593 -20.031457 -44.011249   1198.82  42.718808  \n4795       1.733333   5.3534 -20.031457 -44.011249   1198.82  42.721202  \n4796       4.566667   7.7033 -20.031457 -44.011249   1198.82  42.719993  \n\n[4797 rows x 22 columns]",
      "text/html": "<div>\n<style scoped>\n    .dataframe tbody tr th:only-of-type {\n        vertical-align: middle;\n    }\n\n    .dataframe tbody tr th {\n        vertical-align: top;\n    }\n\n    .dataframe thead th {\n        text-align: right;\n    }\n</style>\n<table border=\"1\" class=\"dataframe\">\n  <thead>\n    <tr style=\"text-align: right;\">\n      <th></th>\n      <th>DATE</th>\n      <th>Chuva</th>\n      <th>$Pressão_{Inst}$</th>\n      <th>$Pressão_{Max}$</th>\n      <th>$Pressão_{Min}$</th>\n      <th>$Temperatura_{Inst}$</th>\n      <th>$Orvalho_{Inst}$</th>\n      <th>$Temperatura_{Max}$</th>\n      <th>$Temperatura_{Min}$</th>\n      <th>$Orvalho_{Max}$</th>\n      <th>...</th>\n      <th>$Umidade_{Min}$</th>\n      <th>$Umidade_{Inst}$</th>\n      <th>$Vento_{Dir}$</th>\n      <th>$Vento_{Raj}$</th>\n      <th>$Vento_{Vel}$</th>\n      <th>GLOBAL</th>\n      <th>Latitude</th>\n      <th>Longitude</th>\n      <th>Altitude</th>\n      <th>Qo</th>\n    </tr>\n  </thead>\n  <tbody>\n    <tr>\n      <th>0</th>\n      <td>2008-06-06</td>\n      <td>0.000000</td>\n      <td>886.500000</td>\n      <td>886.533333</td>\n      <td>886.300000</td>\n      <td>21.100000</td>\n      <td>10.500000</td>\n      <td>22.333333</td>\n      <td>20.900000</td>\n      <td>10.766667</td>\n      <td>...</td>\n      <td>48.333333</td>\n      <td>51.666667</td>\n      <td>56.333333</td>\n      <td>6.233333</td>\n      <td>3.133333</td>\n      <td>1.9223</td>\n      <td>-20.031457</td>\n      <td>-44.011249</td>\n      <td>1198.82</td>\n      <td>2.195897</td>\n    </tr>\n    <tr>\n      <th>1</th>\n      <td>2008-06-07</td>\n      <td>0.000000</td>\n      <td>887.037500</td>\n      <td>887.250000</td>\n      <td>886.854167</td>\n      <td>19.458333</td>\n      <td>10.083333</td>\n      <td>20.016667</td>\n      <td>18.770833</td>\n      <td>10.637500</td>\n      <td>...</td>\n      <td>54.000000</td>\n      <td>56.458333</td>\n      <td>76.458333</td>\n      <td>6.604167</td>\n      <td>3.537500</td>\n      <td>19.2513</td>\n      <td>-20.031457</td>\n      <td>-44.011249</td>\n      <td>1198.82</td>\n      <td>24.544495</td>\n    </tr>\n    <tr>\n      <th>2</th>\n      <td>2008-06-08</td>\n      <td>0.000000</td>\n      <td>886.783333</td>\n      <td>886.983333</td>\n      <td>886.583333</td>\n      <td>19.095833</td>\n      <td>10.504167</td>\n      <td>19.704167</td>\n      <td>18.458333</td>\n      <td>11.054167</td>\n      <td>...</td>\n      <td>55.458333</td>\n      <td>58.750000</td>\n      <td>79.791667</td>\n      <td>8.570833</td>\n      <td>4.383333</td>\n      <td>17.9175</td>\n      <td>-20.031457</td>\n      <td>-44.011249</td>\n      <td>1198.82</td>\n      <td>24.486118</td>\n    </tr>\n    <tr>\n      <th>3</th>\n      <td>2008-06-09</td>\n      <td>0.000000</td>\n      <td>886.341667</td>\n      <td>886.516667</td>\n      <td>886.204167</td>\n      <td>18.700000</td>\n      <td>12.312500</td>\n      <td>19.304167</td>\n      <td>18.079167</td>\n      <td>12.662500</td>\n      <td>...</td>\n      <td>64.541667</td>\n      <td>67.583333</td>\n      <td>125.875000</td>\n      <td>7.779167</td>\n      <td>4.033333</td>\n      <td>16.2483</td>\n      <td>-20.031457</td>\n      <td>-44.011249</td>\n      <td>1198.82</td>\n      <td>24.430901</td>\n    </tr>\n    <tr>\n      <th>4</th>\n      <td>2008-06-10</td>\n      <td>0.000000</td>\n      <td>885.012500</td>\n      <td>885.220833</td>\n      <td>884.820833</td>\n      <td>18.529167</td>\n      <td>11.920833</td>\n      <td>19.291667</td>\n      <td>17.795833</td>\n      <td>12.566667</td>\n      <td>...</td>\n      <td>64.916667</td>\n      <td>67.833333</td>\n      <td>139.625000</td>\n      <td>4.750000</td>\n      <td>2.329167</td>\n      <td>13.3562</td>\n      <td>-20.031457</td>\n      <td>-44.011249</td>\n      <td>1198.82</td>\n      <td>24.378872</td>\n    </tr>\n    <tr>\n      <th>...</th>\n      <td>...</td>\n      <td>...</td>\n      <td>...</td>\n      <td>...</td>\n      <td>...</td>\n      <td>...</td>\n      <td>...</td>\n      <td>...</td>\n      <td>...</td>\n      <td>...</td>\n      <td>...</td>\n      <td>...</td>\n      <td>...</td>\n      <td>...</td>\n      <td>...</td>\n      <td>...</td>\n      <td>...</td>\n      <td>...</td>\n      <td>...</td>\n      <td>...</td>\n      <td>...</td>\n    </tr>\n    <tr>\n      <th>4792</th>\n      <td>2021-12-27</td>\n      <td>0.000000</td>\n      <td>880.675000</td>\n      <td>880.900000</td>\n      <td>880.425000</td>\n      <td>22.075000</td>\n      <td>14.425000</td>\n      <td>22.783333</td>\n      <td>21.395833</td>\n      <td>15.054167</td>\n      <td>...</td>\n      <td>60.291667</td>\n      <td>63.416667</td>\n      <td>174.083333</td>\n      <td>6.562500</td>\n      <td>1.462500</td>\n      <td>26.3813</td>\n      <td>-20.031457</td>\n      <td>-44.011249</td>\n      <td>1198.82</td>\n      <td>42.703244</td>\n    </tr>\n    <tr>\n      <th>4793</th>\n      <td>2021-12-28</td>\n      <td>0.983333</td>\n      <td>881.758333</td>\n      <td>882.012500</td>\n      <td>881.445833</td>\n      <td>21.458333</td>\n      <td>15.970833</td>\n      <td>22.525000</td>\n      <td>20.708333</td>\n      <td>16.695833</td>\n      <td>...</td>\n      <td>68.333333</td>\n      <td>72.875000</td>\n      <td>176.750000</td>\n      <td>7.200000</td>\n      <td>1.875000</td>\n      <td>23.1625</td>\n      <td>-20.031457</td>\n      <td>-44.011249</td>\n      <td>1198.82</td>\n      <td>42.712820</td>\n    </tr>\n    <tr>\n      <th>4794</th>\n      <td>2021-12-29</td>\n      <td>0.150000</td>\n      <td>883.337500</td>\n      <td>883.616667</td>\n      <td>883.075000</td>\n      <td>19.704167</td>\n      <td>16.345833</td>\n      <td>20.341667</td>\n      <td>19.187500</td>\n      <td>16.850000</td>\n      <td>...</td>\n      <td>78.791667</td>\n      <td>82.000000</td>\n      <td>131.375000</td>\n      <td>5.400000</td>\n      <td>0.254167</td>\n      <td>18.4593</td>\n      <td>-20.031457</td>\n      <td>-44.011249</td>\n      <td>1198.82</td>\n      <td>42.718808</td>\n    </tr>\n    <tr>\n      <th>4795</th>\n      <td>2021-12-30</td>\n      <td>1.008333</td>\n      <td>881.166667</td>\n      <td>881.458333</td>\n      <td>880.958333</td>\n      <td>18.454167</td>\n      <td>16.762500</td>\n      <td>18.820833</td>\n      <td>18.204167</td>\n      <td>17.050000</td>\n      <td>...</td>\n      <td>88.375000</td>\n      <td>89.875000</td>\n      <td>98.000000</td>\n      <td>5.812500</td>\n      <td>1.733333</td>\n      <td>5.3534</td>\n      <td>-20.031457</td>\n      <td>-44.011249</td>\n      <td>1198.82</td>\n      <td>42.721202</td>\n    </tr>\n    <tr>\n      <th>4796</th>\n      <td>2021-12-31</td>\n      <td>1.025000</td>\n      <td>879.704167</td>\n      <td>879.970833</td>\n      <td>879.454167</td>\n      <td>17.395833</td>\n      <td>16.145833</td>\n      <td>17.770833</td>\n      <td>17.129167</td>\n      <td>16.479167</td>\n      <td>...</td>\n      <td>90.833333</td>\n      <td>92.416667</td>\n      <td>37.333333</td>\n      <td>10.283333</td>\n      <td>4.566667</td>\n      <td>7.7033</td>\n      <td>-20.031457</td>\n      <td>-44.011249</td>\n      <td>1198.82</td>\n      <td>42.719993</td>\n    </tr>\n  </tbody>\n</table>\n<p>4797 rows × 22 columns</p>\n</div>"
     },
     "execution_count": 93,
     "metadata": {},
     "output_type": "execute_result"
    }
   ],
   "source": [
    "data = pd.read_csv(csv_path, sep=';')\n",
    "data_copy = data.copy()\n",
    "data\n"
   ],
   "metadata": {
    "collapsed": false,
    "ExecuteTime": {
     "end_time": "2023-07-04T05:23:11.851714Z",
     "start_time": "2023-07-04T05:23:11.789101Z"
    }
   }
  },
  {
   "cell_type": "code",
   "execution_count": 94,
   "outputs": [
    {
     "data": {
      "text/plain": "            DATE     Chuva  $Pressão_{Inst}$  $Pressão_{Max}$  \\\n0     2008-06-06  0.000000        886.500000       886.533333   \n1     2008-06-07  0.000000        887.037500       887.250000   \n2     2008-06-08  0.000000        886.783333       886.983333   \n3     2008-06-09  0.000000        886.341667       886.516667   \n4     2008-06-10  0.000000        885.012500       885.220833   \n...          ...       ...               ...              ...   \n4792  2021-12-27  0.000000        880.675000       880.900000   \n4793  2021-12-28  0.983333        881.758333       882.012500   \n4794  2021-12-29  0.150000        883.337500       883.616667   \n4795  2021-12-30  1.008333        881.166667       881.458333   \n4796  2021-12-31  1.025000        879.704167       879.970833   \n\n      $Pressão_{Min}$  $Temperatura_{Inst}$  $Orvalho_{Inst}$  \\\n0          886.300000             21.100000         10.500000   \n1          886.854167             19.458333         10.083333   \n2          886.583333             19.095833         10.504167   \n3          886.204167             18.700000         12.312500   \n4          884.820833             18.529167         11.920833   \n...               ...                   ...               ...   \n4792       880.425000             22.075000         14.425000   \n4793       881.445833             21.458333         15.970833   \n4794       883.075000             19.704167         16.345833   \n4795       880.958333             18.454167         16.762500   \n4796       879.454167             17.395833         16.145833   \n\n      $Temperatura_{Max}$  $Temperatura_{Min}$  $Orvalho_{Max}$  ...  \\\n0               22.333333            20.900000        10.766667  ...   \n1               20.016667            18.770833        10.637500  ...   \n2               19.704167            18.458333        11.054167  ...   \n3               19.304167            18.079167        12.662500  ...   \n4               19.291667            17.795833        12.566667  ...   \n...                   ...                  ...              ...  ...   \n4792            22.783333            21.395833        15.054167  ...   \n4793            22.525000            20.708333        16.695833  ...   \n4794            20.341667            19.187500        16.850000  ...   \n4795            18.820833            18.204167        17.050000  ...   \n4796            17.770833            17.129167        16.479167  ...   \n\n      $Umidade_{Min}$  $Umidade_{Inst}$  $Vento_{Dir}$  $Vento_{Raj}$  \\\n0           48.333333         51.666667      56.333333       6.233333   \n1           54.000000         56.458333      76.458333       6.604167   \n2           55.458333         58.750000      79.791667       8.570833   \n3           64.541667         67.583333     125.875000       7.779167   \n4           64.916667         67.833333     139.625000       4.750000   \n...               ...               ...            ...            ...   \n4792        60.291667         63.416667     174.083333       6.562500   \n4793        68.333333         72.875000     176.750000       7.200000   \n4794        78.791667         82.000000     131.375000       5.400000   \n4795        88.375000         89.875000      98.000000       5.812500   \n4796        90.833333         92.416667      37.333333      10.283333   \n\n      $Vento_{Vel}$   GLOBAL   Latitude  Longitude  Altitude         Qo  \n0          3.133333   1.9223 -20.031457 -44.011249   1198.82   2.195897  \n1          3.537500  19.2513 -20.031457 -44.011249   1198.82  24.544495  \n2          4.383333  17.9175 -20.031457 -44.011249   1198.82  24.486118  \n3          4.033333  16.2483 -20.031457 -44.011249   1198.82  24.430901  \n4          2.329167  13.3562 -20.031457 -44.011249   1198.82  24.378872  \n...             ...      ...        ...        ...       ...        ...  \n4792       1.462500  26.3813 -20.031457 -44.011249   1198.82  42.703244  \n4793       1.875000  23.1625 -20.031457 -44.011249   1198.82  42.712820  \n4794       0.254167  18.4593 -20.031457 -44.011249   1198.82  42.718808  \n4795       1.733333   5.3534 -20.031457 -44.011249   1198.82  42.721202  \n4796       4.566667   7.7033 -20.031457 -44.011249   1198.82  42.719993  \n\n[4797 rows x 22 columns]",
      "text/html": "<div>\n<style scoped>\n    .dataframe tbody tr th:only-of-type {\n        vertical-align: middle;\n    }\n\n    .dataframe tbody tr th {\n        vertical-align: top;\n    }\n\n    .dataframe thead th {\n        text-align: right;\n    }\n</style>\n<table border=\"1\" class=\"dataframe\">\n  <thead>\n    <tr style=\"text-align: right;\">\n      <th></th>\n      <th>DATE</th>\n      <th>Chuva</th>\n      <th>$Pressão_{Inst}$</th>\n      <th>$Pressão_{Max}$</th>\n      <th>$Pressão_{Min}$</th>\n      <th>$Temperatura_{Inst}$</th>\n      <th>$Orvalho_{Inst}$</th>\n      <th>$Temperatura_{Max}$</th>\n      <th>$Temperatura_{Min}$</th>\n      <th>$Orvalho_{Max}$</th>\n      <th>...</th>\n      <th>$Umidade_{Min}$</th>\n      <th>$Umidade_{Inst}$</th>\n      <th>$Vento_{Dir}$</th>\n      <th>$Vento_{Raj}$</th>\n      <th>$Vento_{Vel}$</th>\n      <th>GLOBAL</th>\n      <th>Latitude</th>\n      <th>Longitude</th>\n      <th>Altitude</th>\n      <th>Qo</th>\n    </tr>\n  </thead>\n  <tbody>\n    <tr>\n      <th>0</th>\n      <td>2008-06-06</td>\n      <td>0.000000</td>\n      <td>886.500000</td>\n      <td>886.533333</td>\n      <td>886.300000</td>\n      <td>21.100000</td>\n      <td>10.500000</td>\n      <td>22.333333</td>\n      <td>20.900000</td>\n      <td>10.766667</td>\n      <td>...</td>\n      <td>48.333333</td>\n      <td>51.666667</td>\n      <td>56.333333</td>\n      <td>6.233333</td>\n      <td>3.133333</td>\n      <td>1.9223</td>\n      <td>-20.031457</td>\n      <td>-44.011249</td>\n      <td>1198.82</td>\n      <td>2.195897</td>\n    </tr>\n    <tr>\n      <th>1</th>\n      <td>2008-06-07</td>\n      <td>0.000000</td>\n      <td>887.037500</td>\n      <td>887.250000</td>\n      <td>886.854167</td>\n      <td>19.458333</td>\n      <td>10.083333</td>\n      <td>20.016667</td>\n      <td>18.770833</td>\n      <td>10.637500</td>\n      <td>...</td>\n      <td>54.000000</td>\n      <td>56.458333</td>\n      <td>76.458333</td>\n      <td>6.604167</td>\n      <td>3.537500</td>\n      <td>19.2513</td>\n      <td>-20.031457</td>\n      <td>-44.011249</td>\n      <td>1198.82</td>\n      <td>24.544495</td>\n    </tr>\n    <tr>\n      <th>2</th>\n      <td>2008-06-08</td>\n      <td>0.000000</td>\n      <td>886.783333</td>\n      <td>886.983333</td>\n      <td>886.583333</td>\n      <td>19.095833</td>\n      <td>10.504167</td>\n      <td>19.704167</td>\n      <td>18.458333</td>\n      <td>11.054167</td>\n      <td>...</td>\n      <td>55.458333</td>\n      <td>58.750000</td>\n      <td>79.791667</td>\n      <td>8.570833</td>\n      <td>4.383333</td>\n      <td>17.9175</td>\n      <td>-20.031457</td>\n      <td>-44.011249</td>\n      <td>1198.82</td>\n      <td>24.486118</td>\n    </tr>\n    <tr>\n      <th>3</th>\n      <td>2008-06-09</td>\n      <td>0.000000</td>\n      <td>886.341667</td>\n      <td>886.516667</td>\n      <td>886.204167</td>\n      <td>18.700000</td>\n      <td>12.312500</td>\n      <td>19.304167</td>\n      <td>18.079167</td>\n      <td>12.662500</td>\n      <td>...</td>\n      <td>64.541667</td>\n      <td>67.583333</td>\n      <td>125.875000</td>\n      <td>7.779167</td>\n      <td>4.033333</td>\n      <td>16.2483</td>\n      <td>-20.031457</td>\n      <td>-44.011249</td>\n      <td>1198.82</td>\n      <td>24.430901</td>\n    </tr>\n    <tr>\n      <th>4</th>\n      <td>2008-06-10</td>\n      <td>0.000000</td>\n      <td>885.012500</td>\n      <td>885.220833</td>\n      <td>884.820833</td>\n      <td>18.529167</td>\n      <td>11.920833</td>\n      <td>19.291667</td>\n      <td>17.795833</td>\n      <td>12.566667</td>\n      <td>...</td>\n      <td>64.916667</td>\n      <td>67.833333</td>\n      <td>139.625000</td>\n      <td>4.750000</td>\n      <td>2.329167</td>\n      <td>13.3562</td>\n      <td>-20.031457</td>\n      <td>-44.011249</td>\n      <td>1198.82</td>\n      <td>24.378872</td>\n    </tr>\n    <tr>\n      <th>...</th>\n      <td>...</td>\n      <td>...</td>\n      <td>...</td>\n      <td>...</td>\n      <td>...</td>\n      <td>...</td>\n      <td>...</td>\n      <td>...</td>\n      <td>...</td>\n      <td>...</td>\n      <td>...</td>\n      <td>...</td>\n      <td>...</td>\n      <td>...</td>\n      <td>...</td>\n      <td>...</td>\n      <td>...</td>\n      <td>...</td>\n      <td>...</td>\n      <td>...</td>\n      <td>...</td>\n    </tr>\n    <tr>\n      <th>4792</th>\n      <td>2021-12-27</td>\n      <td>0.000000</td>\n      <td>880.675000</td>\n      <td>880.900000</td>\n      <td>880.425000</td>\n      <td>22.075000</td>\n      <td>14.425000</td>\n      <td>22.783333</td>\n      <td>21.395833</td>\n      <td>15.054167</td>\n      <td>...</td>\n      <td>60.291667</td>\n      <td>63.416667</td>\n      <td>174.083333</td>\n      <td>6.562500</td>\n      <td>1.462500</td>\n      <td>26.3813</td>\n      <td>-20.031457</td>\n      <td>-44.011249</td>\n      <td>1198.82</td>\n      <td>42.703244</td>\n    </tr>\n    <tr>\n      <th>4793</th>\n      <td>2021-12-28</td>\n      <td>0.983333</td>\n      <td>881.758333</td>\n      <td>882.012500</td>\n      <td>881.445833</td>\n      <td>21.458333</td>\n      <td>15.970833</td>\n      <td>22.525000</td>\n      <td>20.708333</td>\n      <td>16.695833</td>\n      <td>...</td>\n      <td>68.333333</td>\n      <td>72.875000</td>\n      <td>176.750000</td>\n      <td>7.200000</td>\n      <td>1.875000</td>\n      <td>23.1625</td>\n      <td>-20.031457</td>\n      <td>-44.011249</td>\n      <td>1198.82</td>\n      <td>42.712820</td>\n    </tr>\n    <tr>\n      <th>4794</th>\n      <td>2021-12-29</td>\n      <td>0.150000</td>\n      <td>883.337500</td>\n      <td>883.616667</td>\n      <td>883.075000</td>\n      <td>19.704167</td>\n      <td>16.345833</td>\n      <td>20.341667</td>\n      <td>19.187500</td>\n      <td>16.850000</td>\n      <td>...</td>\n      <td>78.791667</td>\n      <td>82.000000</td>\n      <td>131.375000</td>\n      <td>5.400000</td>\n      <td>0.254167</td>\n      <td>18.4593</td>\n      <td>-20.031457</td>\n      <td>-44.011249</td>\n      <td>1198.82</td>\n      <td>42.718808</td>\n    </tr>\n    <tr>\n      <th>4795</th>\n      <td>2021-12-30</td>\n      <td>1.008333</td>\n      <td>881.166667</td>\n      <td>881.458333</td>\n      <td>880.958333</td>\n      <td>18.454167</td>\n      <td>16.762500</td>\n      <td>18.820833</td>\n      <td>18.204167</td>\n      <td>17.050000</td>\n      <td>...</td>\n      <td>88.375000</td>\n      <td>89.875000</td>\n      <td>98.000000</td>\n      <td>5.812500</td>\n      <td>1.733333</td>\n      <td>5.3534</td>\n      <td>-20.031457</td>\n      <td>-44.011249</td>\n      <td>1198.82</td>\n      <td>42.721202</td>\n    </tr>\n    <tr>\n      <th>4796</th>\n      <td>2021-12-31</td>\n      <td>1.025000</td>\n      <td>879.704167</td>\n      <td>879.970833</td>\n      <td>879.454167</td>\n      <td>17.395833</td>\n      <td>16.145833</td>\n      <td>17.770833</td>\n      <td>17.129167</td>\n      <td>16.479167</td>\n      <td>...</td>\n      <td>90.833333</td>\n      <td>92.416667</td>\n      <td>37.333333</td>\n      <td>10.283333</td>\n      <td>4.566667</td>\n      <td>7.7033</td>\n      <td>-20.031457</td>\n      <td>-44.011249</td>\n      <td>1198.82</td>\n      <td>42.719993</td>\n    </tr>\n  </tbody>\n</table>\n<p>4797 rows × 22 columns</p>\n</div>"
     },
     "execution_count": 94,
     "metadata": {},
     "output_type": "execute_result"
    }
   ],
   "source": [
    "data.rename(columns={\"PRECIPITAÇÃO TOTAL, HORÁRIO (mm)\": \"Chuva\",\n",
    "                     \"PRESSAO ATMOSFERICA AO NIVEL DA ESTACAO, HORARIA (mB)\": \"$Pressão_{Inst}$\",\n",
    "                     \"PRESSÃO ATMOSFERICA MAX.NA HORA ANT. (AUT) (mB)\": \"$Pressão_{Max}$\",\n",
    "                     \"PRESSÃO ATMOSFERICA MIN. NA HORA ANT. (AUT) (mB)\": \"$Pressão_{Min}$\",\n",
    "                     \"RADIACAO GLOBAL (KJ/m²)\": \"H\",\n",
    "                     \"TEMPERATURA DO AR - BULBO SECO, HORARIA (°C)\": \"$Temperatura_{Inst}$\",\n",
    "                     \"TEMPERATURA DO PONTO DE ORVALHO (°C)\": \"$Orvalho_{Inst}$\",\n",
    "                     \"TEMPERATURA MÁXIMA NA HORA ANT. (AUT) (°C)\": \"$Temperatura_{Max}$\",\n",
    "                     \"TEMPERATURA MÍNIMA NA HORA ANT. (AUT) (°C)\": \"$Temperatura_{Min}$\",\n",
    "                     \"TEMPERATURA ORVALHO MAX. NA HORA ANT. (AUT) (°C)\": \"$Orvalho_{Max}$\",\n",
    "                     \"TEMPERATURA ORVALHO MIN. NA HORA ANT. (AUT) (°C)\": \"$Orvalho_{Min}$\",\n",
    "                     \"UMIDADE REL. MAX. NA HORA ANT. (AUT) (%)\": \"$Umidade_{Max}$\",\n",
    "                     \"UMIDADE REL. MIN. NA HORA ANT. (AUT) (%)\": \"$Umidade_{Min}$\",\n",
    "                     \"UMIDADE RELATIVA DO AR, HORARIA (%)\": \"$Umidade_{Inst}$\",\n",
    "                     \"VENTO, DIREÇÃO HORARIA (gr) (° (gr))\": \"$Vento_{Dir}$\",\n",
    "                     \"VENTO, RAJADA MAXIMA (m/s)\": \"$Vento_{Raj}$\",\n",
    "                     \"VENTO, VELOCIDADE HORARIA (m/s)\": \"$Vento_{Vel}$\",\n",
    "                     \"RADIACAO GLOBAL (Kj/m²)\": \"GLOBAL\"}, inplace=True)\n",
    "data"
   ],
   "metadata": {
    "collapsed": false,
    "ExecuteTime": {
     "end_time": "2023-07-04T05:23:11.851714Z",
     "start_time": "2023-07-04T05:23:11.830995400Z"
    }
   }
  },
  {
   "cell_type": "code",
   "execution_count": 95,
   "outputs": [],
   "source": [
    "data.set_index('DATE', inplace=True)\n",
    "data.dropna(axis=0, how='all', subset=None, inplace=True)\n",
    "data.dropna(axis=1, how='all', subset=None, inplace=True)"
   ],
   "metadata": {
    "collapsed": false,
    "ExecuteTime": {
     "end_time": "2023-07-04T05:23:11.851714Z",
     "start_time": "2023-07-04T05:23:11.849714100Z"
    }
   }
  },
  {
   "cell_type": "code",
   "execution_count": 96,
   "outputs": [],
   "source": [
    "#DEPENDENDO DO ANO E DA ESTAÇÃO OS VALORES DE RADIAÇÃO ESTÃO EM COLUNAS DIFERENTES\n",
    "if 'GLOBAL' not in data.columns:\n",
    "    data.rename(columns={\"H\": \"GLOBAL\"}, inplace=True)\n",
    "if 'H' in data.columns:\n",
    "    data['GLOBAL'].fillna(data['H'], inplace=True)\n",
    "    data.drop(['H'], axis=1, inplace=True)"
   ],
   "metadata": {
    "collapsed": false,
    "ExecuteTime": {
     "end_time": "2023-07-04T05:23:11.862712700Z",
     "start_time": "2023-07-04T05:23:11.851714Z"
    }
   }
  },
  {
   "cell_type": "code",
   "execution_count": 97,
   "outputs": [
    {
     "data": {
      "text/plain": "            $Temperatura_{Inst}$  $Temperatura_{Max}$  $Temperatura_{Min}$  \\\nDATE                                                                         \n2008-06-06             21.100000            22.333333            20.900000   \n2008-06-07             19.458333            20.016667            18.770833   \n2008-06-08             19.095833            19.704167            18.458333   \n2008-06-09             18.700000            19.304167            18.079167   \n2008-06-10             18.529167            19.291667            17.795833   \n...                          ...                  ...                  ...   \n2021-12-27             22.075000            22.783333            21.395833   \n2021-12-28             21.458333            22.525000            20.708333   \n2021-12-29             19.704167            20.341667            19.187500   \n2021-12-30             18.454167            18.820833            18.204167   \n2021-12-31             17.395833            17.770833            17.129167   \n\n            $Umidade_{Max}$  $Umidade_{Min}$  $Umidade_{Inst}$   GLOBAL  \nDATE                                                                     \n2008-06-06        52.333333        48.333333         51.666667   1.9223  \n2008-06-07        59.333333        54.000000         56.458333  19.2513  \n2008-06-08        61.333333        55.458333         58.750000  17.9175  \n2008-06-09        69.916667        64.541667         67.583333  16.2483  \n2008-06-10        71.625000        64.916667         67.833333  13.3562  \n...                     ...              ...               ...      ...  \n2021-12-27        66.375000        60.291667         63.416667  26.3813  \n2021-12-28        76.458333        68.333333         72.875000  23.1625  \n2021-12-29        84.708333        78.791667         82.000000  18.4593  \n2021-12-30        90.833333        88.375000         89.875000   5.3534  \n2021-12-31        93.500000        90.833333         92.416667   7.7033  \n\n[4797 rows x 7 columns]",
      "text/html": "<div>\n<style scoped>\n    .dataframe tbody tr th:only-of-type {\n        vertical-align: middle;\n    }\n\n    .dataframe tbody tr th {\n        vertical-align: top;\n    }\n\n    .dataframe thead th {\n        text-align: right;\n    }\n</style>\n<table border=\"1\" class=\"dataframe\">\n  <thead>\n    <tr style=\"text-align: right;\">\n      <th></th>\n      <th>$Temperatura_{Inst}$</th>\n      <th>$Temperatura_{Max}$</th>\n      <th>$Temperatura_{Min}$</th>\n      <th>$Umidade_{Max}$</th>\n      <th>$Umidade_{Min}$</th>\n      <th>$Umidade_{Inst}$</th>\n      <th>GLOBAL</th>\n    </tr>\n    <tr>\n      <th>DATE</th>\n      <th></th>\n      <th></th>\n      <th></th>\n      <th></th>\n      <th></th>\n      <th></th>\n      <th></th>\n    </tr>\n  </thead>\n  <tbody>\n    <tr>\n      <th>2008-06-06</th>\n      <td>21.100000</td>\n      <td>22.333333</td>\n      <td>20.900000</td>\n      <td>52.333333</td>\n      <td>48.333333</td>\n      <td>51.666667</td>\n      <td>1.9223</td>\n    </tr>\n    <tr>\n      <th>2008-06-07</th>\n      <td>19.458333</td>\n      <td>20.016667</td>\n      <td>18.770833</td>\n      <td>59.333333</td>\n      <td>54.000000</td>\n      <td>56.458333</td>\n      <td>19.2513</td>\n    </tr>\n    <tr>\n      <th>2008-06-08</th>\n      <td>19.095833</td>\n      <td>19.704167</td>\n      <td>18.458333</td>\n      <td>61.333333</td>\n      <td>55.458333</td>\n      <td>58.750000</td>\n      <td>17.9175</td>\n    </tr>\n    <tr>\n      <th>2008-06-09</th>\n      <td>18.700000</td>\n      <td>19.304167</td>\n      <td>18.079167</td>\n      <td>69.916667</td>\n      <td>64.541667</td>\n      <td>67.583333</td>\n      <td>16.2483</td>\n    </tr>\n    <tr>\n      <th>2008-06-10</th>\n      <td>18.529167</td>\n      <td>19.291667</td>\n      <td>17.795833</td>\n      <td>71.625000</td>\n      <td>64.916667</td>\n      <td>67.833333</td>\n      <td>13.3562</td>\n    </tr>\n    <tr>\n      <th>...</th>\n      <td>...</td>\n      <td>...</td>\n      <td>...</td>\n      <td>...</td>\n      <td>...</td>\n      <td>...</td>\n      <td>...</td>\n    </tr>\n    <tr>\n      <th>2021-12-27</th>\n      <td>22.075000</td>\n      <td>22.783333</td>\n      <td>21.395833</td>\n      <td>66.375000</td>\n      <td>60.291667</td>\n      <td>63.416667</td>\n      <td>26.3813</td>\n    </tr>\n    <tr>\n      <th>2021-12-28</th>\n      <td>21.458333</td>\n      <td>22.525000</td>\n      <td>20.708333</td>\n      <td>76.458333</td>\n      <td>68.333333</td>\n      <td>72.875000</td>\n      <td>23.1625</td>\n    </tr>\n    <tr>\n      <th>2021-12-29</th>\n      <td>19.704167</td>\n      <td>20.341667</td>\n      <td>19.187500</td>\n      <td>84.708333</td>\n      <td>78.791667</td>\n      <td>82.000000</td>\n      <td>18.4593</td>\n    </tr>\n    <tr>\n      <th>2021-12-30</th>\n      <td>18.454167</td>\n      <td>18.820833</td>\n      <td>18.204167</td>\n      <td>90.833333</td>\n      <td>88.375000</td>\n      <td>89.875000</td>\n      <td>5.3534</td>\n    </tr>\n    <tr>\n      <th>2021-12-31</th>\n      <td>17.395833</td>\n      <td>17.770833</td>\n      <td>17.129167</td>\n      <td>93.500000</td>\n      <td>90.833333</td>\n      <td>92.416667</td>\n      <td>7.7033</td>\n    </tr>\n  </tbody>\n</table>\n<p>4797 rows × 7 columns</p>\n</div>"
     },
     "execution_count": 97,
     "metadata": {},
     "output_type": "execute_result"
    }
   ],
   "source": [
    "train_dates = pd.to_datetime(data.index)\n",
    "data = data[\n",
    "    ['$Temperatura_{Inst}$', '$Temperatura_{Max}$', '$Temperatura_{Min}$', '$Umidade_{Max}$', '$Umidade_{Min}$',\n",
    "     '$Umidade_{Inst}$', 'GLOBAL']]\n",
    "\n",
    "cols = list(data)[0:7]\n",
    "data = data[cols].astype(float)\n",
    "data"
   ],
   "metadata": {
    "collapsed": false,
    "ExecuteTime": {
     "end_time": "2023-07-04T05:23:11.878714200Z",
     "start_time": "2023-07-04T05:23:11.862712700Z"
    }
   }
  },
  {
   "cell_type": "code",
   "execution_count": 98,
   "outputs": [],
   "source": [
    "# GARANTINDO QUE TODOS OS DADOS ESTÃO SENDO TRATADOS COMO FLOAT\n",
    "data = data.replace(',', '.', regex=True)\n",
    "data['$Temperatura_{Inst}$'] = data['$Temperatura_{Inst}$'].astype(float)\n",
    "data['$Temperatura_{Max}$'] = data['$Temperatura_{Max}$'].astype(float)\n",
    "data['$Temperatura_{Min}$'] = data['$Temperatura_{Min}$'].astype(float)\n",
    "data['GLOBAL'] = data['GLOBAL'].astype(float)"
   ],
   "metadata": {
    "collapsed": false,
    "ExecuteTime": {
     "end_time": "2023-07-04T05:23:11.918228500Z",
     "start_time": "2023-07-04T05:23:11.879713200Z"
    }
   }
  },
  {
   "cell_type": "code",
   "execution_count": 99,
   "outputs": [],
   "source": [
    "#DELETANDO ALGUMA LEITURA ONDE O MÁXIMO É MENOR QUE O MÍNIMO\n",
    "delIndex = data.loc[(data['$Temperatura_{Max}$'] < data['$Temperatura_{Min}$']) | (\n",
    "        data['$Umidade_{Max}$'] < data['$Umidade_{Min}$'])].index\n",
    "if len(delIndex) > 0:\n",
    "    data.drop(delIndex, axis=0, inplace=True)"
   ],
   "metadata": {
    "collapsed": false,
    "ExecuteTime": {
     "end_time": "2023-07-04T05:23:11.961228100Z",
     "start_time": "2023-07-04T05:23:11.888231300Z"
    }
   }
  },
  {
   "cell_type": "code",
   "execution_count": 100,
   "outputs": [],
   "source": [
    "#DELETANDO ALGUMA LEITURA ONDE O MÁXIMO É MENOR QUE O INSTANTÂNEO\n",
    "delIndex = data.loc[(data['$Temperatura_{Max}$'] < data['$Temperatura_{Inst}$']) | (\n",
    "        data['$Umidade_{Max}$'] < data['$Umidade_{Inst}$'])].index\n",
    "if len(delIndex) > 0:\n",
    "    data.drop(delIndex, axis=0, inplace=True)"
   ],
   "metadata": {
    "collapsed": false,
    "ExecuteTime": {
     "end_time": "2023-07-04T05:23:11.978230800Z",
     "start_time": "2023-07-04T05:23:11.899228400Z"
    }
   }
  },
  {
   "cell_type": "code",
   "execution_count": 101,
   "outputs": [],
   "source": [
    "#DELETANDO ALGUMA LEITURA ONDE O INSTANTÂNEO É MENOR QUE O MÍNIMO\n",
    "delIndex = data.loc[(data['$Temperatura_{Inst}$'] < data['$Temperatura_{Min}$']) | (\n",
    "        data['$Umidade_{Inst}$'] < data['$Umidade_{Min}$'])].index\n",
    "if len(delIndex) > 0:\n",
    "    data.drop(delIndex, axis=0, inplace=True)"
   ],
   "metadata": {
    "collapsed": false,
    "ExecuteTime": {
     "end_time": "2023-07-04T05:23:11.992229100Z",
     "start_time": "2023-07-04T05:23:11.908229Z"
    }
   }
  },
  {
   "cell_type": "code",
   "execution_count": 102,
   "outputs": [],
   "source": [
    "# #MODIFICANDO A UNIDADE DA RADIAÇÃO DE (Kj/m²) PARA (Mj/m²)\n",
    "data['GLOBAL'] = data['GLOBAL'].mul(0.001)"
   ],
   "metadata": {
    "collapsed": false,
    "ExecuteTime": {
     "end_time": "2023-07-04T05:23:12.004743Z",
     "start_time": "2023-07-04T05:23:11.918228500Z"
    }
   }
  },
  {
   "cell_type": "code",
   "execution_count": 103,
   "outputs": [],
   "source": [
    "#DELETANDO ALGUMA LINHA QUE AINDA TENHA NAN\n",
    "data.dropna(inplace=True)"
   ],
   "metadata": {
    "collapsed": false,
    "ExecuteTime": {
     "end_time": "2023-07-04T05:23:12.017744300Z",
     "start_time": "2023-07-04T05:23:11.927233500Z"
    }
   }
  },
  {
   "cell_type": "code",
   "execution_count": 104,
   "outputs": [],
   "source": [
    "# EXTRAINDO OS NOMES DAS COLUNAS\n",
    "target_names = ['GLOBAL']\n",
    "variable_names = data.columns.values\n",
    "variable_names = np.delete(variable_names, np.where(variable_names == target_names))"
   ],
   "metadata": {
    "collapsed": false,
    "ExecuteTime": {
     "end_time": "2023-07-04T05:23:12.041403700Z",
     "start_time": "2023-07-04T05:23:11.941228100Z"
    }
   }
  },
  {
   "cell_type": "code",
   "execution_count": 105,
   "outputs": [
    {
     "name": "stdout",
     "output_type": "stream",
     "text": [
      "Index(['2008-06-06', '2008-06-07', '2008-06-08', '2008-06-09', '2008-06-10',\n",
      "       '2008-06-11', '2008-06-12', '2008-06-13', '2008-06-14', '2008-06-15',\n",
      "       ...\n",
      "       '2021-12-22', '2021-12-23', '2021-12-24', '2021-12-25', '2021-12-26',\n",
      "       '2021-12-27', '2021-12-28', '2021-12-29', '2021-12-30', '2021-12-31'],\n",
      "      dtype='object', name='DATE', length=4797)\n"
     ]
    }
   ],
   "source": [
    "date_range = data.index\n",
    "\n",
    "var_to_plot = data.columns\n",
    "df = data[var_to_plot]\n",
    "\n",
    "n = int(df.shape[0] * 0.7)\n",
    "df.index = range(df.shape[0])\n",
    "id0 = df.index <= n\n",
    "id1 = df.index > n\n",
    "print(data.index)"
   ],
   "metadata": {
    "collapsed": false,
    "ExecuteTime": {
     "end_time": "2023-07-04T05:23:12.051403700Z",
     "start_time": "2023-07-04T05:23:11.949229900Z"
    }
   }
  },
  {
   "cell_type": "code",
   "execution_count": 106,
   "outputs": [],
   "source": [
    "X = data[variable_names]\n",
    "y = data[target_names]"
   ],
   "metadata": {
    "collapsed": false,
    "ExecuteTime": {
     "end_time": "2023-07-04T05:23:12.051403700Z",
     "start_time": "2023-07-04T05:23:11.960228400Z"
    }
   }
  },
  {
   "cell_type": "code",
   "execution_count": 107,
   "outputs": [],
   "source": [
    "# normalizing the data\n",
    "from sklearn.preprocessing import MinMaxScaler\n",
    "\n",
    "scaler = MinMaxScaler(feature_range=(-1, 1))\n",
    "data = scaler.fit_transform(data)\n"
   ],
   "metadata": {
    "collapsed": false,
    "ExecuteTime": {
     "end_time": "2023-07-04T05:23:12.051403700Z",
     "start_time": "2023-07-04T05:23:11.979230100Z"
    }
   }
  },
  {
   "cell_type": "code",
   "execution_count": 108,
   "outputs": [
    {
     "name": "stdout",
     "output_type": "stream",
     "text": [
      "            $Temperatura_{Inst}$  $Temperatura_{Max}$  $Temperatura_{Min}$  \\\n",
      "DATE                                                                         \n",
      "2008-06-06             21.100000            22.333333            20.900000   \n",
      "2008-06-07             19.458333            20.016667            18.770833   \n",
      "2008-06-08             19.095833            19.704167            18.458333   \n",
      "2008-06-09             18.700000            19.304167            18.079167   \n",
      "2008-06-10             18.529167            19.291667            17.795833   \n",
      "...                          ...                  ...                  ...   \n",
      "2021-12-27             22.075000            22.783333            21.395833   \n",
      "2021-12-28             21.458333            22.525000            20.708333   \n",
      "2021-12-29             19.704167            20.341667            19.187500   \n",
      "2021-12-30             18.454167            18.820833            18.204167   \n",
      "2021-12-31             17.395833            17.770833            17.129167   \n",
      "\n",
      "            $Umidade_{Max}$  $Umidade_{Min}$  $Umidade_{Inst}$  \n",
      "DATE                                                            \n",
      "2008-06-06        52.333333        48.333333         51.666667  \n",
      "2008-06-07        59.333333        54.000000         56.458333  \n",
      "2008-06-08        61.333333        55.458333         58.750000  \n",
      "2008-06-09        69.916667        64.541667         67.583333  \n",
      "2008-06-10        71.625000        64.916667         67.833333  \n",
      "...                     ...              ...               ...  \n",
      "2021-12-27        66.375000        60.291667         63.416667  \n",
      "2021-12-28        76.458333        68.333333         72.875000  \n",
      "2021-12-29        84.708333        78.791667         82.000000  \n",
      "2021-12-30        90.833333        88.375000         89.875000  \n",
      "2021-12-31        93.500000        90.833333         92.416667  \n",
      "\n",
      "[4797 rows x 6 columns]\n"
     ]
    }
   ],
   "source": [
    "print(X)"
   ],
   "metadata": {
    "collapsed": false,
    "ExecuteTime": {
     "end_time": "2023-07-04T05:23:12.052403300Z",
     "start_time": "2023-07-04T05:23:11.981230100Z"
    }
   }
  },
  {
   "cell_type": "code",
   "execution_count": 109,
   "outputs": [
    {
     "name": "stdout",
     "output_type": "stream",
     "text": [
      "Shape de train_x: (4074, 3, 7)\n",
      "Shape de train_y: (4074, 1)\n",
      "Shape de test_x: (720, 3, 7)\n",
      "Shape de test_y: (720, 1)\n"
     ]
    }
   ],
   "source": [
    "from sklearn.model_selection import train_test_split\n",
    "\n",
    "train_x = []\n",
    "train_y = []\n",
    "\n",
    "n_future = 1\n",
    "n_past = 3\n",
    "\n",
    "for i in range(n_past, len(data) - n_future + 1):\n",
    "    train_x.append(data[i - n_past:i, 0:data.shape[1]])\n",
    "    train_y.append(data[i + n_future - 1:i + n_future, 0])\n",
    "\n",
    "train_x = np.array(train_x)\n",
    "train_y = np.array(train_y)\n",
    "\n",
    "# Separar os dados em conjuntos de treinamento e teste\n",
    "test_size = 0.15\n",
    "split_index = int(len(train_x) * (1 - test_size))\n",
    "\n",
    "train_x, test_x = train_x[:split_index], train_x[split_index:]\n",
    "train_y, test_y = train_y[:split_index], train_y[split_index:]\n",
    "\n",
    "\n",
    "print(\"Shape de train_x:\", train_x.shape)\n",
    "print(\"Shape de train_y:\", train_y.shape)\n",
    "print(\"Shape de test_x:\", test_x.shape)\n",
    "print(\"Shape de test_y:\", test_y.shape)"
   ],
   "metadata": {
    "collapsed": false,
    "ExecuteTime": {
     "end_time": "2023-07-04T05:23:12.052403300Z",
     "start_time": "2023-07-04T05:23:11.997228800Z"
    }
   }
  },
  {
   "cell_type": "code",
   "execution_count": 110,
   "outputs": [
    {
     "name": "stdout",
     "output_type": "stream",
     "text": [
      "Types [1, 1, 1, 2, 1, 2, 1] and maxint [0, 0, 0, 0, 0, 0, 0] detected\n",
      "--- Evolve in 1 possible combinations ---\n",
      "Epoch 1/50\n"
     ]
    },
    {
     "name": "stderr",
     "output_type": "stream",
     "text": [
      "/home/portes/miniconda3/envs/tf/lib/python3.9/site-packages/deap/creator.py:138: RuntimeWarning: A class named 'FitnessMax' has already been created and it will be overwritten. Consider deleting previous creation of that class or rename it.\n",
      "  warnings.warn(\"A class named '{0}' has already been created and it \"\n",
      "/home/portes/miniconda3/envs/tf/lib/python3.9/site-packages/deap/creator.py:138: RuntimeWarning: A class named 'Individual' has already been created and it will be overwritten. Consider deleting previous creation of that class or rename it.\n",
      "  warnings.warn(\"A class named '{0}' has already been created and it \"\n",
      "/home/portes/miniconda3/envs/tf/lib/python3.9/site-packages/tensorflow/python/data/ops/structured_function.py:254: UserWarning: Even though the `tf.config.experimental_run_functions_eagerly` option is set, this option does not apply to tf.data functions. To force eager execution of tf.data functions, please use `tf.data.experimental.enable_debug_mode()`.\n",
      "  warnings.warn(\n"
     ]
    },
    {
     "name": "stdout",
     "output_type": "stream",
     "text": [
      "3/3 - 0s - loss: 0.0880 - root_mean_squared_error: 0.2967 - 169ms/epoch - 56ms/step\n",
      "Epoch 2/50\n",
      "3/3 - 0s - loss: 0.0804 - root_mean_squared_error: 0.2836 - 157ms/epoch - 52ms/step\n",
      "Epoch 3/50\n",
      "3/3 - 0s - loss: 0.0741 - root_mean_squared_error: 0.2722 - 160ms/epoch - 53ms/step\n",
      "Epoch 4/50\n",
      "3/3 - 0s - loss: 0.0686 - root_mean_squared_error: 0.2619 - 156ms/epoch - 52ms/step\n",
      "Epoch 5/50\n",
      "3/3 - 0s - loss: 0.0628 - root_mean_squared_error: 0.2505 - 159ms/epoch - 53ms/step\n",
      "Epoch 6/50\n",
      "3/3 - 0s - loss: 0.0555 - root_mean_squared_error: 0.2355 - 159ms/epoch - 53ms/step\n",
      "Epoch 7/50\n",
      "3/3 - 0s - loss: 0.0503 - root_mean_squared_error: 0.2244 - 154ms/epoch - 51ms/step\n",
      "Epoch 8/50\n",
      "3/3 - 0s - loss: 0.0471 - root_mean_squared_error: 0.2169 - 158ms/epoch - 53ms/step\n",
      "Epoch 9/50\n",
      "3/3 - 0s - loss: 0.0452 - root_mean_squared_error: 0.2127 - 164ms/epoch - 55ms/step\n",
      "Epoch 10/50\n",
      "3/3 - 0s - loss: 0.0453 - root_mean_squared_error: 0.2129 - 177ms/epoch - 59ms/step\n",
      "Epoch 11/50\n",
      "3/3 - 0s - loss: 0.0440 - root_mean_squared_error: 0.2098 - 164ms/epoch - 55ms/step\n",
      "Epoch 12/50\n",
      "3/3 - 0s - loss: 0.0422 - root_mean_squared_error: 0.2053 - 154ms/epoch - 51ms/step\n",
      "Epoch 13/50\n",
      "3/3 - 0s - loss: 0.0417 - root_mean_squared_error: 0.2041 - 165ms/epoch - 55ms/step\n",
      "Epoch 14/50\n",
      "3/3 - 0s - loss: 0.0397 - root_mean_squared_error: 0.1994 - 174ms/epoch - 58ms/step\n",
      "Epoch 15/50\n",
      "3/3 - 0s - loss: 0.0393 - root_mean_squared_error: 0.1982 - 162ms/epoch - 54ms/step\n",
      "Epoch 16/50\n",
      "3/3 - 0s - loss: 0.0395 - root_mean_squared_error: 0.1989 - 156ms/epoch - 52ms/step\n",
      "Epoch 17/50\n",
      "3/3 - 0s - loss: 0.0383 - root_mean_squared_error: 0.1958 - 156ms/epoch - 52ms/step\n",
      "Epoch 18/50\n",
      "3/3 - 0s - loss: 0.0383 - root_mean_squared_error: 0.1957 - 147ms/epoch - 49ms/step\n",
      "Epoch 19/50\n",
      "3/3 - 0s - loss: 0.0382 - root_mean_squared_error: 0.1955 - 150ms/epoch - 50ms/step\n",
      "Epoch 20/50\n",
      "3/3 - 0s - loss: 0.0370 - root_mean_squared_error: 0.1924 - 146ms/epoch - 49ms/step\n",
      "Epoch 21/50\n",
      "3/3 - 0s - loss: 0.0357 - root_mean_squared_error: 0.1890 - 152ms/epoch - 51ms/step\n",
      "Epoch 22/50\n",
      "3/3 - 0s - loss: 0.0356 - root_mean_squared_error: 0.1887 - 152ms/epoch - 51ms/step\n",
      "Epoch 23/50\n",
      "3/3 - 0s - loss: 0.0360 - root_mean_squared_error: 0.1897 - 151ms/epoch - 50ms/step\n",
      "Epoch 24/50\n",
      "3/3 - 0s - loss: 0.0345 - root_mean_squared_error: 0.1858 - 145ms/epoch - 48ms/step\n",
      "Epoch 25/50\n",
      "3/3 - 0s - loss: 0.0364 - root_mean_squared_error: 0.1909 - 154ms/epoch - 51ms/step\n",
      "Epoch 26/50\n",
      "3/3 - 0s - loss: 0.0342 - root_mean_squared_error: 0.1848 - 150ms/epoch - 50ms/step\n",
      "Epoch 27/50\n",
      "3/3 - 0s - loss: 0.0339 - root_mean_squared_error: 0.1840 - 140ms/epoch - 47ms/step\n",
      "Epoch 28/50\n",
      "3/3 - 0s - loss: 0.0347 - root_mean_squared_error: 0.1862 - 152ms/epoch - 51ms/step\n",
      "Epoch 29/50\n",
      "3/3 - 0s - loss: 0.0341 - root_mean_squared_error: 0.1846 - 160ms/epoch - 53ms/step\n",
      "Epoch 30/50\n",
      "3/3 - 0s - loss: 0.0346 - root_mean_squared_error: 0.1859 - 147ms/epoch - 49ms/step\n",
      "Epoch 31/50\n",
      "3/3 - 0s - loss: 0.0345 - root_mean_squared_error: 0.1858 - 151ms/epoch - 50ms/step\n",
      "Epoch 32/50\n",
      "3/3 - 0s - loss: 0.0335 - root_mean_squared_error: 0.1829 - 151ms/epoch - 50ms/step\n",
      "Epoch 33/50\n",
      "3/3 - 0s - loss: 0.0323 - root_mean_squared_error: 0.1797 - 160ms/epoch - 53ms/step\n",
      "Epoch 34/50\n",
      "3/3 - 0s - loss: 0.0333 - root_mean_squared_error: 0.1824 - 148ms/epoch - 49ms/step\n",
      "Epoch 35/50\n",
      "3/3 - 0s - loss: 0.0332 - root_mean_squared_error: 0.1821 - 146ms/epoch - 49ms/step\n",
      "Epoch 36/50\n",
      "3/3 - 0s - loss: 0.0341 - root_mean_squared_error: 0.1848 - 150ms/epoch - 50ms/step\n",
      "Epoch 37/50\n",
      "3/3 - 0s - loss: 0.0327 - root_mean_squared_error: 0.1808 - 148ms/epoch - 49ms/step\n",
      "Epoch 38/50\n",
      "3/3 - 0s - loss: 0.0341 - root_mean_squared_error: 0.1847 - 153ms/epoch - 51ms/step\n",
      "Epoch 39/50\n",
      "3/3 - 0s - loss: 0.0326 - root_mean_squared_error: 0.1806 - 161ms/epoch - 54ms/step\n",
      "Epoch 40/50\n",
      "3/3 - 0s - loss: 0.0336 - root_mean_squared_error: 0.1832 - 156ms/epoch - 52ms/step\n",
      "Epoch 41/50\n",
      "3/3 - 0s - loss: 0.0319 - root_mean_squared_error: 0.1787 - 152ms/epoch - 51ms/step\n",
      "Epoch 42/50\n",
      "3/3 - 0s - loss: 0.0317 - root_mean_squared_error: 0.1779 - 148ms/epoch - 49ms/step\n",
      "Epoch 43/50\n",
      "3/3 - 0s - loss: 0.0335 - root_mean_squared_error: 0.1831 - 148ms/epoch - 49ms/step\n",
      "Epoch 44/50\n",
      "3/3 - 0s - loss: 0.0336 - root_mean_squared_error: 0.1834 - 149ms/epoch - 50ms/step\n",
      "Epoch 45/50\n",
      "3/3 - 0s - loss: 0.0340 - root_mean_squared_error: 0.1843 - 160ms/epoch - 53ms/step\n",
      "Epoch 46/50\n",
      "3/3 - 0s - loss: 0.0315 - root_mean_squared_error: 0.1776 - 155ms/epoch - 52ms/step\n",
      "Epoch 47/50\n",
      "3/3 - 0s - loss: 0.0325 - root_mean_squared_error: 0.1802 - 162ms/epoch - 54ms/step\n",
      "Epoch 48/50\n",
      "3/3 - 0s - loss: 0.0321 - root_mean_squared_error: 0.1792 - 154ms/epoch - 51ms/step\n",
      "Epoch 49/50\n",
      "3/3 - 0s - loss: 0.0337 - root_mean_squared_error: 0.1836 - 147ms/epoch - 49ms/step\n",
      "Epoch 50/50\n",
      "3/3 - 0s - loss: 0.0330 - root_mean_squared_error: 0.1816 - 153ms/epoch - 51ms/step\n",
      "2/2 - 0s - 42ms/epoch - 21ms/step\n",
      "Epoch 1/50\n"
     ]
    },
    {
     "name": "stderr",
     "output_type": "stream",
     "text": [
      "/home/portes/miniconda3/envs/tf/lib/python3.9/site-packages/tensorflow/python/data/ops/structured_function.py:254: UserWarning: Even though the `tf.config.experimental_run_functions_eagerly` option is set, this option does not apply to tf.data functions. To force eager execution of tf.data functions, please use `tf.data.experimental.enable_debug_mode()`.\n",
      "  warnings.warn(\n",
      "/home/portes/miniconda3/envs/tf/lib/python3.9/site-packages/tensorflow/python/data/ops/structured_function.py:254: UserWarning: Even though the `tf.config.experimental_run_functions_eagerly` option is set, this option does not apply to tf.data functions. To force eager execution of tf.data functions, please use `tf.data.experimental.enable_debug_mode()`.\n",
      "  warnings.warn(\n"
     ]
    },
    {
     "name": "stdout",
     "output_type": "stream",
     "text": [
      "3/3 - 0s - loss: 0.0589 - root_mean_squared_error: 0.2427 - 171ms/epoch - 57ms/step\n",
      "Epoch 2/50\n",
      "3/3 - 0s - loss: 0.0476 - root_mean_squared_error: 0.2182 - 169ms/epoch - 56ms/step\n",
      "Epoch 3/50\n",
      "3/3 - 0s - loss: 0.0472 - root_mean_squared_error: 0.2172 - 155ms/epoch - 52ms/step\n",
      "Epoch 4/50\n",
      "3/3 - 0s - loss: 0.0448 - root_mean_squared_error: 0.2117 - 158ms/epoch - 53ms/step\n",
      "Epoch 5/50\n",
      "3/3 - 0s - loss: 0.0425 - root_mean_squared_error: 0.2062 - 166ms/epoch - 55ms/step\n",
      "Epoch 6/50\n",
      "3/3 - 0s - loss: 0.0418 - root_mean_squared_error: 0.2045 - 168ms/epoch - 56ms/step\n",
      "Epoch 7/50\n",
      "3/3 - 0s - loss: 0.0426 - root_mean_squared_error: 0.2065 - 158ms/epoch - 53ms/step\n",
      "Epoch 8/50\n",
      "3/3 - 0s - loss: 0.0406 - root_mean_squared_error: 0.2014 - 161ms/epoch - 54ms/step\n",
      "Epoch 9/50\n",
      "3/3 - 0s - loss: 0.0404 - root_mean_squared_error: 0.2009 - 149ms/epoch - 50ms/step\n",
      "Epoch 10/50\n",
      "3/3 - 0s - loss: 0.0404 - root_mean_squared_error: 0.2011 - 150ms/epoch - 50ms/step\n",
      "Epoch 11/50\n",
      "3/3 - 0s - loss: 0.0389 - root_mean_squared_error: 0.1973 - 155ms/epoch - 52ms/step\n",
      "Epoch 12/50\n",
      "3/3 - 0s - loss: 0.0381 - root_mean_squared_error: 0.1952 - 145ms/epoch - 48ms/step\n",
      "Epoch 13/50\n",
      "3/3 - 0s - loss: 0.0376 - root_mean_squared_error: 0.1939 - 147ms/epoch - 49ms/step\n",
      "Epoch 14/50\n",
      "3/3 - 0s - loss: 0.0354 - root_mean_squared_error: 0.1880 - 151ms/epoch - 50ms/step\n",
      "Epoch 15/50\n",
      "3/3 - 0s - loss: 0.0352 - root_mean_squared_error: 0.1875 - 148ms/epoch - 49ms/step\n",
      "Epoch 16/50\n",
      "3/3 - 0s - loss: 0.0356 - root_mean_squared_error: 0.1886 - 147ms/epoch - 49ms/step\n",
      "Epoch 17/50\n",
      "3/3 - 0s - loss: 0.0351 - root_mean_squared_error: 0.1875 - 150ms/epoch - 50ms/step\n",
      "Epoch 18/50\n",
      "3/3 - 0s - loss: 0.0345 - root_mean_squared_error: 0.1856 - 148ms/epoch - 49ms/step\n",
      "Epoch 19/50\n",
      "3/3 - 0s - loss: 0.0327 - root_mean_squared_error: 0.1808 - 152ms/epoch - 51ms/step\n",
      "Epoch 20/50\n",
      "3/3 - 0s - loss: 0.0335 - root_mean_squared_error: 0.1829 - 157ms/epoch - 52ms/step\n",
      "Epoch 21/50\n",
      "3/3 - 0s - loss: 0.0324 - root_mean_squared_error: 0.1799 - 150ms/epoch - 50ms/step\n",
      "Epoch 22/50\n",
      "3/3 - 0s - loss: 0.0314 - root_mean_squared_error: 0.1773 - 153ms/epoch - 51ms/step\n",
      "Epoch 23/50\n",
      "3/3 - 0s - loss: 0.0327 - root_mean_squared_error: 0.1807 - 155ms/epoch - 52ms/step\n",
      "Epoch 24/50\n",
      "3/3 - 0s - loss: 0.0327 - root_mean_squared_error: 0.1808 - 162ms/epoch - 54ms/step\n",
      "Epoch 25/50\n",
      "3/3 - 0s - loss: 0.0307 - root_mean_squared_error: 0.1751 - 158ms/epoch - 53ms/step\n",
      "Epoch 26/50\n",
      "3/3 - 0s - loss: 0.0308 - root_mean_squared_error: 0.1756 - 157ms/epoch - 52ms/step\n",
      "Epoch 27/50\n",
      "3/3 - 0s - loss: 0.0305 - root_mean_squared_error: 0.1746 - 153ms/epoch - 51ms/step\n",
      "Epoch 28/50\n",
      "3/3 - 0s - loss: 0.0300 - root_mean_squared_error: 0.1733 - 152ms/epoch - 51ms/step\n",
      "Epoch 29/50\n",
      "3/3 - 0s - loss: 0.0306 - root_mean_squared_error: 0.1748 - 149ms/epoch - 50ms/step\n",
      "Epoch 30/50\n",
      "3/3 - 0s - loss: 0.0302 - root_mean_squared_error: 0.1737 - 149ms/epoch - 50ms/step\n",
      "Epoch 31/50\n",
      "3/3 - 0s - loss: 0.0312 - root_mean_squared_error: 0.1766 - 155ms/epoch - 52ms/step\n",
      "Epoch 32/50\n",
      "3/3 - 0s - loss: 0.0315 - root_mean_squared_error: 0.1774 - 162ms/epoch - 54ms/step\n",
      "Epoch 33/50\n",
      "3/3 - 0s - loss: 0.0304 - root_mean_squared_error: 0.1744 - 164ms/epoch - 55ms/step\n",
      "Epoch 34/50\n",
      "3/3 - 0s - loss: 0.0317 - root_mean_squared_error: 0.1780 - 150ms/epoch - 50ms/step\n",
      "Epoch 35/50\n",
      "3/3 - 0s - loss: 0.0292 - root_mean_squared_error: 0.1707 - 153ms/epoch - 51ms/step\n",
      "Epoch 36/50\n",
      "3/3 - 0s - loss: 0.0299 - root_mean_squared_error: 0.1730 - 151ms/epoch - 50ms/step\n",
      "Epoch 37/50\n",
      "3/3 - 0s - loss: 0.0313 - root_mean_squared_error: 0.1770 - 149ms/epoch - 50ms/step\n",
      "Epoch 38/50\n",
      "3/3 - 0s - loss: 0.0306 - root_mean_squared_error: 0.1748 - 155ms/epoch - 52ms/step\n",
      "Epoch 39/50\n",
      "3/3 - 0s - loss: 0.0313 - root_mean_squared_error: 0.1770 - 156ms/epoch - 52ms/step\n",
      "Epoch 40/50\n",
      "3/3 - 0s - loss: 0.0304 - root_mean_squared_error: 0.1743 - 152ms/epoch - 51ms/step\n",
      "Epoch 41/50\n",
      "3/3 - 0s - loss: 0.0319 - root_mean_squared_error: 0.1787 - 149ms/epoch - 50ms/step\n",
      "Epoch 42/50\n",
      "3/3 - 0s - loss: 0.0295 - root_mean_squared_error: 0.1718 - 166ms/epoch - 55ms/step\n",
      "Epoch 43/50\n",
      "3/3 - 0s - loss: 0.0293 - root_mean_squared_error: 0.1711 - 161ms/epoch - 54ms/step\n",
      "Epoch 44/50\n",
      "3/3 - 0s - loss: 0.0307 - root_mean_squared_error: 0.1751 - 152ms/epoch - 51ms/step\n",
      "Epoch 45/50\n",
      "3/3 - 0s - loss: 0.0319 - root_mean_squared_error: 0.1786 - 156ms/epoch - 52ms/step\n",
      "Epoch 46/50\n",
      "3/3 - 0s - loss: 0.0303 - root_mean_squared_error: 0.1741 - 158ms/epoch - 53ms/step\n",
      "Epoch 47/50\n",
      "3/3 - 0s - loss: 0.0303 - root_mean_squared_error: 0.1741 - 148ms/epoch - 49ms/step\n",
      "Epoch 48/50\n",
      "3/3 - 0s - loss: 0.0318 - root_mean_squared_error: 0.1782 - 147ms/epoch - 49ms/step\n",
      "Epoch 49/50\n",
      "3/3 - 0s - loss: 0.0313 - root_mean_squared_error: 0.1770 - 163ms/epoch - 54ms/step\n",
      "Epoch 50/50\n",
      "3/3 - 0s - loss: 0.0284 - root_mean_squared_error: 0.1687 - 160ms/epoch - 53ms/step\n",
      "2/2 - 0s - 42ms/epoch - 21ms/step\n",
      "Epoch 1/50\n"
     ]
    },
    {
     "name": "stderr",
     "output_type": "stream",
     "text": [
      "/home/portes/miniconda3/envs/tf/lib/python3.9/site-packages/tensorflow/python/data/ops/structured_function.py:254: UserWarning: Even though the `tf.config.experimental_run_functions_eagerly` option is set, this option does not apply to tf.data functions. To force eager execution of tf.data functions, please use `tf.data.experimental.enable_debug_mode()`.\n",
      "  warnings.warn(\n",
      "/home/portes/miniconda3/envs/tf/lib/python3.9/site-packages/tensorflow/python/data/ops/structured_function.py:254: UserWarning: Even though the `tf.config.experimental_run_functions_eagerly` option is set, this option does not apply to tf.data functions. To force eager execution of tf.data functions, please use `tf.data.experimental.enable_debug_mode()`.\n",
      "  warnings.warn(\n"
     ]
    },
    {
     "name": "stdout",
     "output_type": "stream",
     "text": [
      "3/3 - 0s - loss: 0.0850 - root_mean_squared_error: 0.2915 - 159ms/epoch - 53ms/step\n",
      "Epoch 2/50\n",
      "3/3 - 0s - loss: 0.0739 - root_mean_squared_error: 0.2718 - 157ms/epoch - 52ms/step\n",
      "Epoch 3/50\n",
      "3/3 - 0s - loss: 0.0639 - root_mean_squared_error: 0.2528 - 174ms/epoch - 58ms/step\n",
      "Epoch 4/50\n",
      "3/3 - 0s - loss: 0.0550 - root_mean_squared_error: 0.2344 - 162ms/epoch - 54ms/step\n",
      "Epoch 5/50\n",
      "3/3 - 0s - loss: 0.0493 - root_mean_squared_error: 0.2220 - 152ms/epoch - 51ms/step\n",
      "Epoch 6/50\n",
      "3/3 - 0s - loss: 0.0440 - root_mean_squared_error: 0.2097 - 151ms/epoch - 50ms/step\n",
      "Epoch 7/50\n",
      "3/3 - 0s - loss: 0.0441 - root_mean_squared_error: 0.2100 - 157ms/epoch - 52ms/step\n",
      "Epoch 8/50\n",
      "3/3 - 0s - loss: 0.0432 - root_mean_squared_error: 0.2079 - 152ms/epoch - 51ms/step\n",
      "Epoch 9/50\n",
      "3/3 - 0s - loss: 0.0409 - root_mean_squared_error: 0.2021 - 153ms/epoch - 51ms/step\n",
      "Epoch 10/50\n",
      "3/3 - 0s - loss: 0.0422 - root_mean_squared_error: 0.2053 - 152ms/epoch - 51ms/step\n",
      "Epoch 11/50\n",
      "3/3 - 0s - loss: 0.0405 - root_mean_squared_error: 0.2013 - 153ms/epoch - 51ms/step\n",
      "Epoch 12/50\n",
      "3/3 - 0s - loss: 0.0403 - root_mean_squared_error: 0.2007 - 149ms/epoch - 50ms/step\n",
      "Epoch 13/50\n",
      "3/3 - 0s - loss: 0.0384 - root_mean_squared_error: 0.1959 - 166ms/epoch - 55ms/step\n",
      "Epoch 14/50\n",
      "3/3 - 0s - loss: 0.0384 - root_mean_squared_error: 0.1960 - 148ms/epoch - 49ms/step\n",
      "Epoch 15/50\n",
      "3/3 - 0s - loss: 0.0376 - root_mean_squared_error: 0.1939 - 155ms/epoch - 52ms/step\n",
      "Epoch 16/50\n",
      "3/3 - 0s - loss: 0.0384 - root_mean_squared_error: 0.1961 - 152ms/epoch - 51ms/step\n",
      "Epoch 17/50\n",
      "3/3 - 0s - loss: 0.0371 - root_mean_squared_error: 0.1927 - 151ms/epoch - 50ms/step\n",
      "Epoch 18/50\n",
      "3/3 - 0s - loss: 0.0353 - root_mean_squared_error: 0.1879 - 147ms/epoch - 49ms/step\n",
      "Epoch 19/50\n",
      "3/3 - 0s - loss: 0.0360 - root_mean_squared_error: 0.1898 - 153ms/epoch - 51ms/step\n",
      "Epoch 20/50\n",
      "3/3 - 0s - loss: 0.0350 - root_mean_squared_error: 0.1870 - 161ms/epoch - 54ms/step\n",
      "Epoch 21/50\n",
      "3/3 - 0s - loss: 0.0345 - root_mean_squared_error: 0.1858 - 154ms/epoch - 51ms/step\n",
      "Epoch 22/50\n",
      "3/3 - 0s - loss: 0.0348 - root_mean_squared_error: 0.1865 - 149ms/epoch - 50ms/step\n",
      "Epoch 23/50\n",
      "3/3 - 0s - loss: 0.0330 - root_mean_squared_error: 0.1816 - 148ms/epoch - 49ms/step\n",
      "Epoch 24/50\n",
      "3/3 - 0s - loss: 0.0335 - root_mean_squared_error: 0.1829 - 153ms/epoch - 51ms/step\n",
      "Epoch 25/50\n",
      "3/3 - 0s - loss: 0.0340 - root_mean_squared_error: 0.1844 - 168ms/epoch - 56ms/step\n",
      "Epoch 26/50\n",
      "3/3 - 0s - loss: 0.0346 - root_mean_squared_error: 0.1859 - 158ms/epoch - 53ms/step\n",
      "Epoch 27/50\n",
      "3/3 - 0s - loss: 0.0332 - root_mean_squared_error: 0.1823 - 153ms/epoch - 51ms/step\n",
      "Epoch 28/50\n",
      "3/3 - 0s - loss: 0.0333 - root_mean_squared_error: 0.1826 - 168ms/epoch - 56ms/step\n",
      "Epoch 29/50\n",
      "3/3 - 0s - loss: 0.0336 - root_mean_squared_error: 0.1834 - 169ms/epoch - 56ms/step\n",
      "Epoch 30/50\n",
      "3/3 - 0s - loss: 0.0338 - root_mean_squared_error: 0.1838 - 167ms/epoch - 56ms/step\n",
      "Epoch 31/50\n",
      "3/3 - 0s - loss: 0.0341 - root_mean_squared_error: 0.1847 - 165ms/epoch - 55ms/step\n",
      "Epoch 32/50\n",
      "3/3 - 0s - loss: 0.0335 - root_mean_squared_error: 0.1831 - 164ms/epoch - 55ms/step\n",
      "Epoch 33/50\n",
      "3/3 - 0s - loss: 0.0321 - root_mean_squared_error: 0.1791 - 169ms/epoch - 56ms/step\n",
      "Epoch 34/50\n",
      "3/3 - 0s - loss: 0.0321 - root_mean_squared_error: 0.1792 - 170ms/epoch - 57ms/step\n",
      "Epoch 35/50\n",
      "3/3 - 0s - loss: 0.0331 - root_mean_squared_error: 0.1819 - 153ms/epoch - 51ms/step\n",
      "Epoch 36/50\n",
      "3/3 - 0s - loss: 0.0314 - root_mean_squared_error: 0.1771 - 153ms/epoch - 51ms/step\n",
      "Epoch 37/50\n",
      "3/3 - 0s - loss: 0.0338 - root_mean_squared_error: 0.1840 - 149ms/epoch - 50ms/step\n",
      "Epoch 38/50\n",
      "3/3 - 0s - loss: 0.0320 - root_mean_squared_error: 0.1790 - 148ms/epoch - 49ms/step\n",
      "Epoch 39/50\n",
      "3/3 - 0s - loss: 0.0327 - root_mean_squared_error: 0.1807 - 141ms/epoch - 47ms/step\n",
      "Epoch 40/50\n",
      "3/3 - 0s - loss: 0.0325 - root_mean_squared_error: 0.1803 - 146ms/epoch - 49ms/step\n",
      "Epoch 41/50\n",
      "3/3 - 0s - loss: 0.0316 - root_mean_squared_error: 0.1778 - 145ms/epoch - 48ms/step\n",
      "Epoch 42/50\n",
      "3/3 - 0s - loss: 0.0322 - root_mean_squared_error: 0.1796 - 150ms/epoch - 50ms/step\n",
      "Epoch 43/50\n",
      "3/3 - 0s - loss: 0.0317 - root_mean_squared_error: 0.1780 - 144ms/epoch - 48ms/step\n",
      "Epoch 44/50\n",
      "3/3 - 0s - loss: 0.0319 - root_mean_squared_error: 0.1787 - 145ms/epoch - 48ms/step\n",
      "Epoch 45/50\n",
      "3/3 - 0s - loss: 0.0325 - root_mean_squared_error: 0.1801 - 146ms/epoch - 49ms/step\n",
      "Epoch 46/50\n",
      "3/3 - 0s - loss: 0.0297 - root_mean_squared_error: 0.1722 - 153ms/epoch - 51ms/step\n",
      "Epoch 47/50\n",
      "3/3 - 0s - loss: 0.0320 - root_mean_squared_error: 0.1790 - 145ms/epoch - 48ms/step\n",
      "Epoch 48/50\n",
      "3/3 - 0s - loss: 0.0314 - root_mean_squared_error: 0.1773 - 151ms/epoch - 50ms/step\n",
      "Epoch 49/50\n",
      "3/3 - 0s - loss: 0.0319 - root_mean_squared_error: 0.1786 - 154ms/epoch - 51ms/step\n",
      "Epoch 50/50\n",
      "3/3 - 0s - loss: 0.0333 - root_mean_squared_error: 0.1825 - 154ms/epoch - 51ms/step\n",
      "2/2 - 0s - 44ms/epoch - 22ms/step\n",
      "gen\tnevals\tavg       \tmin       \tmax       \tstd\n",
      "0  \t50    \t-0.0224798\t-0.0224798\t-0.0224798\t0  \n",
      "1  \t28    \t-0.0224798\t-0.0224798\t-0.0224798\t0  \n",
      "2  \t25    \t-0.0224798\t-0.0224798\t-0.0224798\t0  \n",
      "3  \t33    \t-0.0224798\t-0.0224798\t-0.0224798\t0  \n",
      "4  \t31    \t-0.0224798\t-0.0224798\t-0.0224798\t0  \n",
      "5  \t35    \t-0.0224798\t-0.0224798\t-0.0224798\t0  \n",
      "Best individual is: {'batch_size': 1024, 'epochs': 50, 'optimizer': 'adam', 'learning_rate': 0.01, 'activation': 'relu', 'dropout': 0.2, 'neurons': 5}\n",
      "with fitness: -0.022479768498316885\n",
      "Epoch 1/50\n"
     ]
    },
    {
     "name": "stderr",
     "output_type": "stream",
     "text": [
      "/home/portes/miniconda3/envs/tf/lib/python3.9/site-packages/tensorflow/python/data/ops/structured_function.py:254: UserWarning: Even though the `tf.config.experimental_run_functions_eagerly` option is set, this option does not apply to tf.data functions. To force eager execution of tf.data functions, please use `tf.data.experimental.enable_debug_mode()`.\n",
      "  warnings.warn(\n",
      "/home/portes/miniconda3/envs/tf/lib/python3.9/site-packages/tensorflow/python/data/ops/structured_function.py:254: UserWarning: Even though the `tf.config.experimental_run_functions_eagerly` option is set, this option does not apply to tf.data functions. To force eager execution of tf.data functions, please use `tf.data.experimental.enable_debug_mode()`.\n",
      "  warnings.warn(\n"
     ]
    },
    {
     "name": "stdout",
     "output_type": "stream",
     "text": [
      "4/4 - 0s - loss: 0.0796 - root_mean_squared_error: 0.2821 - 216ms/epoch - 54ms/step\n",
      "Epoch 2/50\n",
      "4/4 - 0s - loss: 0.0670 - root_mean_squared_error: 0.2588 - 218ms/epoch - 55ms/step\n",
      "Epoch 3/50\n",
      "4/4 - 0s - loss: 0.0551 - root_mean_squared_error: 0.2348 - 203ms/epoch - 51ms/step\n",
      "Epoch 4/50\n",
      "4/4 - 0s - loss: 0.0461 - root_mean_squared_error: 0.2147 - 215ms/epoch - 54ms/step\n",
      "Epoch 5/50\n",
      "4/4 - 0s - loss: 0.0438 - root_mean_squared_error: 0.2093 - 205ms/epoch - 51ms/step\n",
      "Epoch 6/50\n",
      "4/4 - 0s - loss: 0.0448 - root_mean_squared_error: 0.2117 - 206ms/epoch - 51ms/step\n",
      "Epoch 7/50\n",
      "4/4 - 0s - loss: 0.0429 - root_mean_squared_error: 0.2070 - 213ms/epoch - 53ms/step\n",
      "Epoch 8/50\n",
      "4/4 - 0s - loss: 0.0409 - root_mean_squared_error: 0.2024 - 211ms/epoch - 53ms/step\n",
      "Epoch 9/50\n",
      "4/4 - 0s - loss: 0.0408 - root_mean_squared_error: 0.2021 - 224ms/epoch - 56ms/step\n",
      "Epoch 10/50\n",
      "4/4 - 0s - loss: 0.0393 - root_mean_squared_error: 0.1984 - 208ms/epoch - 52ms/step\n",
      "Epoch 11/50\n",
      "4/4 - 0s - loss: 0.0378 - root_mean_squared_error: 0.1945 - 209ms/epoch - 52ms/step\n",
      "Epoch 12/50\n",
      "4/4 - 0s - loss: 0.0374 - root_mean_squared_error: 0.1934 - 201ms/epoch - 50ms/step\n",
      "Epoch 13/50\n",
      "4/4 - 0s - loss: 0.0375 - root_mean_squared_error: 0.1936 - 213ms/epoch - 53ms/step\n",
      "Epoch 14/50\n",
      "4/4 - 0s - loss: 0.0363 - root_mean_squared_error: 0.1904 - 216ms/epoch - 54ms/step\n",
      "Epoch 15/50\n",
      "4/4 - 0s - loss: 0.0364 - root_mean_squared_error: 0.1908 - 202ms/epoch - 51ms/step\n",
      "Epoch 16/50\n",
      "4/4 - 0s - loss: 0.0343 - root_mean_squared_error: 0.1852 - 217ms/epoch - 54ms/step\n",
      "Epoch 17/50\n",
      "4/4 - 0s - loss: 0.0346 - root_mean_squared_error: 0.1861 - 200ms/epoch - 50ms/step\n",
      "Epoch 18/50\n",
      "4/4 - 0s - loss: 0.0339 - root_mean_squared_error: 0.1842 - 194ms/epoch - 49ms/step\n",
      "Epoch 19/50\n",
      "4/4 - 0s - loss: 0.0331 - root_mean_squared_error: 0.1819 - 200ms/epoch - 50ms/step\n",
      "Epoch 20/50\n",
      "4/4 - 0s - loss: 0.0331 - root_mean_squared_error: 0.1819 - 204ms/epoch - 51ms/step\n",
      "Epoch 21/50\n",
      "4/4 - 0s - loss: 0.0344 - root_mean_squared_error: 0.1855 - 206ms/epoch - 51ms/step\n",
      "Epoch 22/50\n",
      "4/4 - 0s - loss: 0.0338 - root_mean_squared_error: 0.1840 - 193ms/epoch - 48ms/step\n",
      "Epoch 23/50\n",
      "4/4 - 0s - loss: 0.0329 - root_mean_squared_error: 0.1815 - 198ms/epoch - 49ms/step\n",
      "Epoch 24/50\n",
      "4/4 - 0s - loss: 0.0322 - root_mean_squared_error: 0.1794 - 198ms/epoch - 50ms/step\n",
      "Epoch 25/50\n",
      "4/4 - 0s - loss: 0.0319 - root_mean_squared_error: 0.1786 - 199ms/epoch - 50ms/step\n",
      "Epoch 26/50\n",
      "4/4 - 0s - loss: 0.0317 - root_mean_squared_error: 0.1779 - 197ms/epoch - 49ms/step\n",
      "Epoch 27/50\n",
      "4/4 - 0s - loss: 0.0319 - root_mean_squared_error: 0.1787 - 199ms/epoch - 50ms/step\n",
      "Epoch 28/50\n",
      "4/4 - 0s - loss: 0.0321 - root_mean_squared_error: 0.1791 - 201ms/epoch - 50ms/step\n",
      "Epoch 29/50\n",
      "4/4 - 0s - loss: 0.0315 - root_mean_squared_error: 0.1775 - 198ms/epoch - 49ms/step\n",
      "Epoch 30/50\n",
      "4/4 - 0s - loss: 0.0315 - root_mean_squared_error: 0.1776 - 206ms/epoch - 51ms/step\n",
      "Epoch 31/50\n",
      "4/4 - 0s - loss: 0.0320 - root_mean_squared_error: 0.1788 - 195ms/epoch - 49ms/step\n",
      "Epoch 32/50\n",
      "4/4 - 0s - loss: 0.0302 - root_mean_squared_error: 0.1738 - 201ms/epoch - 50ms/step\n",
      "Epoch 33/50\n",
      "4/4 - 0s - loss: 0.0329 - root_mean_squared_error: 0.1814 - 192ms/epoch - 48ms/step\n",
      "Epoch 34/50\n",
      "4/4 - 0s - loss: 0.0333 - root_mean_squared_error: 0.1826 - 197ms/epoch - 49ms/step\n",
      "Epoch 35/50\n",
      "4/4 - 0s - loss: 0.0317 - root_mean_squared_error: 0.1780 - 193ms/epoch - 48ms/step\n",
      "Epoch 36/50\n",
      "4/4 - 0s - loss: 0.0311 - root_mean_squared_error: 0.1764 - 194ms/epoch - 49ms/step\n",
      "Epoch 37/50\n",
      "4/4 - 0s - loss: 0.0308 - root_mean_squared_error: 0.1756 - 194ms/epoch - 48ms/step\n",
      "Epoch 38/50\n",
      "4/4 - 0s - loss: 0.0319 - root_mean_squared_error: 0.1787 - 187ms/epoch - 47ms/step\n",
      "Epoch 39/50\n",
      "4/4 - 0s - loss: 0.0332 - root_mean_squared_error: 0.1821 - 197ms/epoch - 49ms/step\n",
      "Epoch 40/50\n",
      "4/4 - 0s - loss: 0.0310 - root_mean_squared_error: 0.1761 - 202ms/epoch - 51ms/step\n",
      "Epoch 41/50\n",
      "4/4 - 0s - loss: 0.0325 - root_mean_squared_error: 0.1803 - 195ms/epoch - 49ms/step\n",
      "Epoch 42/50\n",
      "4/4 - 0s - loss: 0.0318 - root_mean_squared_error: 0.1784 - 203ms/epoch - 51ms/step\n",
      "Epoch 43/50\n",
      "4/4 - 0s - loss: 0.0322 - root_mean_squared_error: 0.1795 - 205ms/epoch - 51ms/step\n",
      "Epoch 44/50\n",
      "4/4 - 0s - loss: 0.0304 - root_mean_squared_error: 0.1745 - 231ms/epoch - 58ms/step\n",
      "Epoch 45/50\n",
      "4/4 - 0s - loss: 0.0310 - root_mean_squared_error: 0.1761 - 206ms/epoch - 52ms/step\n",
      "Epoch 46/50\n",
      "4/4 - 0s - loss: 0.0328 - root_mean_squared_error: 0.1810 - 202ms/epoch - 51ms/step\n",
      "Epoch 47/50\n",
      "4/4 - 0s - loss: 0.0323 - root_mean_squared_error: 0.1798 - 206ms/epoch - 51ms/step\n",
      "Epoch 48/50\n",
      "4/4 - 0s - loss: 0.0327 - root_mean_squared_error: 0.1810 - 214ms/epoch - 53ms/step\n",
      "Epoch 49/50\n",
      "4/4 - 0s - loss: 0.0317 - root_mean_squared_error: 0.1781 - 224ms/epoch - 56ms/step\n",
      "Epoch 50/50\n",
      "4/4 - 0s - loss: 0.0313 - root_mean_squared_error: 0.1769 - 231ms/epoch - 58ms/step\n"
     ]
    }
   ],
   "source": [
    "from tensorflow.keras.models import Sequential\n",
    "from tensorflow.keras.layers import *\n",
    "from tensorflow.keras.callbacks import ModelCheckpoint\n",
    "from tensorflow.keras.losses import MeanSquaredError\n",
    "from tensorflow.keras.optimizers import Adam, SGD\n",
    "from tensorflow.keras.metrics import RootMeanSquaredError\n",
    "from scikeras.wrappers import KerasRegressor\n",
    "from evolutionary_search import EvolutionaryAlgorithmSearchCV\n",
    "\n",
    "params = {\n",
    "    'batch_size': [1024],\n",
    "    'epochs': [50],\n",
    "    'optimizer': ['adam'],\n",
    "    'learning_rate': [0.01],\n",
    "    'activation': ['relu'],\n",
    "    'dropout': [0.2],\n",
    "    'neurons': [5]\n",
    "}\n",
    "\n",
    "\n",
    "def create_model(learning_rate=0.1, optimizer='adam', activation='relu', dropout=0.1, neurons=1):\n",
    "    model1 = Sequential()\n",
    "    model1.add(CuDNNLSTM(neurons, input_shape=(train_x.shape[1], train_x.shape[2]), return_sequences=True))\n",
    "    model1.add(CuDNNLSTM(int(neurons/2), return_sequences=False))\n",
    "    model1.add(Dense(train_y.shape[1]))\n",
    "    model1.add(Dropout(dropout))\n",
    "    if optimizer == 'adam':\n",
    "        optimizer = Adam(learning_rate=learning_rate)\n",
    "    elif optimizer == 'sgd':\n",
    "        optimizer = SGD(learning_rate=learning_rate)\n",
    "    model1.compile(loss=MeanSquaredError(), optimizer=optimizer,\n",
    "                   metrics=[RootMeanSquaredError()])\n",
    "    return model1\n",
    "\n",
    "\n",
    "model = KerasRegressor(model=create_model, verbose=2, learning_rate=[0.01], activation=['adam'],\n",
    "                       dropout=[0.2], neurons=[5])\n",
    "\n",
    "checkpoint = ModelCheckpoint('best_model.h5', monitor='val_loss', verbose=1, save_best_only=True, mode='min')\n",
    "\n",
    "eas = EvolutionaryAlgorithmSearchCV(estimator=model,\n",
    "                                    params=params,\n",
    "                                    scoring='neg_mean_squared_error',\n",
    "                                    cv=3,\n",
    "                                    verbose=1,\n",
    "                                    population_size=50,\n",
    "                                    gene_mutation_prob=0.01,\n",
    "                                    gene_crossover_prob=0.8,\n",
    "                                    tournament_size=3,\n",
    "                                    generations_number=5)\n",
    "\n",
    "# Enable graph execution mode\n",
    "tf.config.run_functions_eagerly(True)\n",
    "# tf.config.run_functions_eagerly(False)\n",
    "\n",
    "# Fit the model\n",
    "eas.fit(train_x, train_y)"
   ],
   "metadata": {
    "collapsed": false,
    "ExecuteTime": {
     "end_time": "2023-07-04T05:23:46.584061800Z",
     "start_time": "2023-07-04T05:23:12.007748100Z"
    }
   }
  },
  {
   "cell_type": "code",
   "execution_count": 111,
   "outputs": [
    {
     "name": "stdout",
     "output_type": "stream",
     "text": [
      "-0.022479768498316885 {'batch_size': 1024, 'epochs': 50, 'optimizer': 'adam', 'learning_rate': 0.01, 'activation': 'relu', 'dropout': 0.2, 'neurons': 5}\n"
     ]
    }
   ],
   "source": [
    "print(eas.best_score_, eas.best_params_)"
   ],
   "metadata": {
    "collapsed": false,
    "ExecuteTime": {
     "end_time": "2023-07-04T05:23:46.587058600Z",
     "start_time": "2023-07-04T05:23:46.584061800Z"
    }
   }
  },
  {
   "cell_type": "code",
   "execution_count": 112,
   "outputs": [
    {
     "name": "stdout",
     "output_type": "stream",
     "text": [
      "1/1 - 0s - 29ms/epoch - 29ms/step\n"
     ]
    },
    {
     "name": "stderr",
     "output_type": "stream",
     "text": [
      "/home/portes/miniconda3/envs/tf/lib/python3.9/site-packages/tensorflow/python/data/ops/structured_function.py:254: UserWarning: Even though the `tf.config.experimental_run_functions_eagerly` option is set, this option does not apply to tf.data functions. To force eager execution of tf.data functions, please use `tf.data.experimental.enable_debug_mode()`.\n",
      "  warnings.warn(\n"
     ]
    }
   ],
   "source": [
    "predictions = eas.predict(test_x[-n_future:])"
   ],
   "metadata": {
    "collapsed": false,
    "ExecuteTime": {
     "end_time": "2023-07-04T05:23:46.651085600Z",
     "start_time": "2023-07-04T05:23:46.634573800Z"
    }
   }
  },
  {
   "cell_type": "code",
   "execution_count": 113,
   "outputs": [
    {
     "name": "stdout",
     "output_type": "stream",
     "text": [
      "[Timestamp('2021-12-29 00:00:00', freq='D')]\n"
     ]
    }
   ],
   "source": [
    "predict_period_dates = pd.date_range(list(train_dates)[-n_past], periods=n_future, freq='1d').tolist()\n",
    "print(predict_period_dates)"
   ],
   "metadata": {
    "collapsed": false,
    "ExecuteTime": {
     "end_time": "2023-07-04T05:23:46.655110200Z",
     "start_time": "2023-07-04T05:23:46.651085600Z"
    }
   }
  },
  {
   "cell_type": "code",
   "execution_count": 114,
   "outputs": [
    {
     "name": "stdout",
     "output_type": "stream",
     "text": [
      "[19.133825]\n",
      "[24.62916667 25.04166667 22.7125     23.075      23.04166667 21.04166667\n",
      " 21.2625     21.35       20.83333333 19.85416667 20.92083333 18.8125\n",
      " 18.92083333 19.75       20.40833333 20.8875     22.1125     19.80416667\n",
      " 22.75833333 24.025      23.67083333 23.53333333 23.34583333 23.09166667\n",
      " 20.50833333 19.76666667 20.4875     20.39583333 19.1625     20.94166667\n",
      " 19.55       19.64583333 19.17083333 21.04166667 22.15416667 22.03333333\n",
      " 21.64583333 22.2625     22.15833333 22.45       22.3625     22.04583333\n",
      " 20.16521739 18.8        20.95833333 20.82083333 21.54166667 20.18333333\n",
      " 19.4875     19.675      17.1        18.3625     20.17916667 21.32083333\n",
      " 19.63333333 18.75       19.27916667 19.90833333 20.63333333 21.34583333\n",
      " 21.24583333 21.72916667 21.8375     22.01666667 22.0625     22.0875\n",
      " 22.80416667 22.46666667 21.15416667 20.40833333 19.28333333 18.98333333\n",
      " 18.2875     19.1        18.87916667 18.85       20.0625     21.62916667\n",
      " 22.45833333 22.2875     21.1625     20.78333333 21.50416667 20.975\n",
      " 22.1625     21.4875     22.05416667 21.05416667 19.80833333 20.075\n",
      " 20.87083333 20.16666667 19.2375     19.3875     19.1125     18.7\n",
      " 20.34166667 19.56666667 17.92083333 18.70833333 19.5375     19.8625\n",
      " 19.75416667 19.275      18.90416667 19.6875     19.15       17.10416667\n",
      " 17.43478261 17.5        18.67916667 19.275      19.17916667 18.43333333\n",
      " 18.00416667 19.84166667 17.50833333 15.62916667 15.69166667 14.39166667\n",
      " 15.52727273 17.20416667 18.34166667 18.45       18.1875     17.39166667\n",
      " 17.67916667 18.55416667 17.71666667 16.76666667 17.0826087  17.72083333\n",
      " 18.82083333 17.3875     16.05833333 14.37083333 14.3        16.15833333\n",
      " 16.6625     14.75833333 14.375      15.3625     16.87916667 18.90833333\n",
      " 19.44583333 17.76956522 17.87083333 18.25833333 20.24583333 19.86956522\n",
      " 20.11666667 19.9625     20.17916667 19.64583333 19.99583333 18.2375\n",
      " 16.74583333 14.725      15.22173913 17.10909091 18.45       17.72916667\n",
      " 17.90833333 17.02083333 16.65833333 17.2875     18.86521739 17.85217391\n",
      " 18.0375     15.80833333 16.34583333 17.43913043 18.33333333 17.675\n",
      " 18.37916667 17.55       18.07391304 17.8875     18.03913043 18.29565217\n",
      " 18.55217391 17.44166667 17.68695652 18.62916667 19.92173913 19.74166667\n",
      " 17.87083333 16.87083333 16.35833333 15.30869565 16.6875     18.34583333\n",
      " 18.28333333 17.69166667 16.6125     17.4375     17.72916667 17.7\n",
      " 18.27083333 19.64166667 18.95       16.82083333 15.69583333 16.22916667\n",
      " 15.2375     15.82727273 15.35       14.7826087  16.525      16.71666667\n",
      " 16.56666667 17.7125     17.7826087  17.8125     18.65       19.49166667\n",
      " 18.7375     21.06666667 20.65       20.34583333 20.67083333 22.2875\n",
      " 16.3625     11.96666667 13.00434783 14.01666667 14.62083333 16.2375\n",
      " 17.93333333 18.175      18.65833333 19.99166667 21.775      20.53333333\n",
      " 19.05833333 18.3125     20.70416667 21.0826087  20.07083333 21.87916667\n",
      " 22.10416667 22.90833333 22.29166667 22.9625     22.82083333 20.15\n",
      " 20.6875     21.22916667 20.80416667 21.97083333 23.97083333 25.89166667\n",
      " 25.05833333 19.91666667 17.78333333 16.9        18.975      20.525\n",
      " 21.56666667 23.475      25.975      27.175      26.39583333 25.90833333\n",
      " 25.78333333 28.19583333 25.80833333 23.675      25.02916667 27.825\n",
      " 26.8875     26.9875     23.97083333 19.54166667 18.80416667 20.30833333\n",
      " 22.35       22.11666667 20.02083333 17.53333333 17.19166667 16.74583333\n",
      " 16.5375     18.06666667 19.49583333 17.99166667 16.71666667 17.75\n",
      " 19.32083333 22.34166667 23.72083333 23.1625     21.675      17.79166667\n",
      " 17.35       17.66956522 17.75833333 17.32916667 19.63333333 21.56666667\n",
      " 22.4375     22.89166667 23.0875     21.0125     21.56666667 19.66666667\n",
      " 19.25833333 19.81666667 21.46956522 21.15       22.33333333 20.65\n",
      " 19.70833333 21.29166667 20.1625     19.93333333 19.94583333 19.82916667\n",
      " 19.8875     20.43333333 20.95833333 20.5375     20.74583333 21.29166667\n",
      " 22.33333333 21.2        21.0625     22.41666667 22.3875     20.74583333\n",
      " 19.775      20.78333333 19.40833333 18.75416667 20.32916667 21.625\n",
      " 22.42083333 22.85       23.82083333 23.475      22.6375     21.70833333\n",
      " 22.05833333 21.75       22.59583333 21.4125     20.16666667 19.76086957\n",
      " 19.37083333 19.98333333 21.70833333 21.12916667 21.24166667 21.65833333\n",
      " 23.0625     23.45833333 20.69583333 19.31666667 19.36666667 21.80833333\n",
      " 22.25833333 22.25833333 21.5625     22.02083333 21.84583333 22.375\n",
      " 22.40833333 22.32916667 21.80416667 20.86666667 20.12916667 20.90416667\n",
      " 21.31666667 22.3        22.43333333 21.42916667 21.59166667 20.75416667\n",
      " 20.99583333 21.84166667 21.95833333 22.20416667 22.59166667 22.74583333\n",
      " 23.2625     22.83333333 22.47083333 22.39583333 23.14166667 23.38333333\n",
      " 19.79166667 18.92916667 17.625      18.175      18.89166667 19.89166667\n",
      " 20.64583333 19.74166667 20.39583333 19.77916667 20.525      21.89166667\n",
      " 21.33333333 19.80833333 20.53333333 20.94583333 20.7        20.575\n",
      " 20.96666667 21.4625     22.32083333 20.10833333 19.01666667 19.25\n",
      " 19.59166667 19.67916667 21.02083333 21.55416667 21.8125     21.47916667\n",
      " 19.05416667 19.74583333 18.86666667 18.97083333 20.675      21.67083333\n",
      " 22.45       21.15       21.02916667 21.34583333 21.42916667 21.50416667\n",
      " 21.175      21.0375     20.1875     21.75       22.80416667 23.45833333\n",
      " 22.9375     22.55416667 23.0625     23.2875     21.4625     22.52083333\n",
      " 21.34583333 21.60416667 21.55       21.15       20.89583333 19.57083333\n",
      " 19.16666667 19.08333333 17.9375     18.575      19.12083333 19.67916667\n",
      " 20.125      20.90416667 19.0375     18.22083333 18.03043478 18.4375\n",
      " 19.6875     20.35833333 19.73333333 19.61666667 20.12083333 20.59583333\n",
      " 21.1125     21.25       21.825      20.15833333 19.56956522 19.84583333\n",
      " 17.92083333 17.04166667 16.67916667 18.54583333 18.23478261 19.525\n",
      " 20.03333333 20.625      19.64583333 17.6125     17.47916667 17.32916667\n",
      " 17.95833333 18.03333333 17.5625     17.07916667 17.5875     18.025\n",
      " 18.30833333 18.97083333 19.125      19.86666667 21.80869565 20.175\n",
      " 19.50416667 21.175      20.24583333 20.74583333 20.64583333 20.89166667\n",
      " 20.96666667 19.75833333 17.96666667 18.72916667 19.92916667 20.05\n",
      " 17.75416667 17.69583333 19.36666667 19.56666667 19.15416667 18.03913043\n",
      " 18.125      17.95833333 16.43333333 16.225      16.19583333 17.6125\n",
      " 17.8625     17.075      16.14166667 16.96666667 18.90833333 19.13333333\n",
      " 17.14166667 16.95217391 18.18333333 17.9875     15.72916667 16.78695652\n",
      " 16.85833333 16.67083333 15.5        14.60833333 14.79130435 15.37826087\n",
      " 15.4375     15.2125     15.37916667 15.8625     16.98333333 16.775\n",
      " 17.15416667 17.01666667 16.34583333 17.1625     17.97083333 19.375\n",
      " 20.40833333 21.17916667 19.47916667 16.9375     17.59583333 17.55\n",
      " 15.27083333 15.27916667 15.71304348 15.97083333 17.13333333 19.70833333\n",
      " 15.3125     14.70869565 13.71363636 14.11363636 14.7        17.1\n",
      " 15.91666667 15.82083333 15.55833333 14.675      15.3625     16.6375\n",
      " 17.73478261 19.54166667 19.4625     18.00416667 18.925      20.3\n",
      " 20.32083333 18.475      19.0625     18.2        17.95416667 19.2375\n",
      " 18.57083333 19.53333333 20.89166667 20.30416667 19.83333333 20.09583333\n",
      " 18.47916667 17.9875     18.075      16.63333333 16.82173913 17.06666667\n",
      " 18.89583333 20.8125     23.24583333 24.75833333 23.45416667 21.825\n",
      " 23.4875     25.5875     24.44166667 23.44166667 24.425      24.88333333\n",
      " 26.22083333 23.79583333 21.24166667 22.0875     25.4625     24.6\n",
      " 24.30833333 22.4875     17.76086957 18.62608696 19.6125     20.37916667\n",
      " 21.52083333 21.18333333 23.04583333 22.2125     23.59166667 22.64166667\n",
      " 22.37083333 24.7125     23.92083333 22.0625     20.16086957 20.41666667\n",
      " 19.32083333 16.6625     16.42916667 17.60416667 19.37083333 21.225\n",
      " 21.525      21.7125     21.21666667 20.64166667 19.10833333 16.55\n",
      " 16.68333333 18.6        20.37916667 20.21666667 21.2375     20.8\n",
      " 21.825      22.025      20.45       20.37916667 19.2125     18.325\n",
      " 18.825      21.3        22.55416667 22.6125     23.09166667 21.65833333\n",
      " 21.1125     21.11666667 21.32916667 18.00833333 16.44583333 15.7\n",
      " 17.02916667 18.08333333 18.83333333 20.4375     20.2875     19.4375\n",
      " 19.05217391 18.525      20.04166667 21.78333333 24.25416667 22.275\n",
      " 21.4375     18.7125     18.87083333 21.775      21.8875     19.83478261\n",
      " 21.7875     20.29166667 19.6875     20.74166667 17.48333333 18.23333333\n",
      " 15.725      19.0875     20.77916667 21.9        22.40416667 20.1826087\n",
      " 20.72083333 19.50833333 21.42083333 19.3125     21.32083333 19.82916667\n",
      " 19.55       20.15       21.24583333 21.72083333 19.14166667 18.67916667\n",
      " 20.34583333 22.075      21.45833333 19.70416667 18.45416667 17.39583333]\n"
     ]
    }
   ],
   "source": [
    "# inverte a escala para os valores originais\n",
    "predictions_copies = np.repeat(predictions, train_x.shape[2], axis=-1)\n",
    "original = scaler.inverse_transform(predictions_copies)[:,0]\n",
    "print(original)\n",
    "\n",
    "test_y_copies = np.repeat(test_y, train_x.shape[2], axis=-1)\n",
    "original_test = scaler.inverse_transform(test_y_copies)[:,0]\n",
    "print(original_test)\n"
   ],
   "metadata": {
    "collapsed": false,
    "ExecuteTime": {
     "end_time": "2023-07-04T05:23:46.664114Z",
     "start_time": "2023-07-04T05:23:46.657110100Z"
    }
   }
  },
  {
   "cell_type": "code",
   "execution_count": 115,
   "outputs": [],
   "source": [
    "# !pip install seaborn"
   ],
   "metadata": {
    "collapsed": false,
    "ExecuteTime": {
     "end_time": "2023-07-04T05:23:46.678111200Z",
     "start_time": "2023-07-04T05:23:46.665110800Z"
    }
   }
  },
  {
   "cell_type": "code",
   "execution_count": 128,
   "outputs": [
    {
     "name": "stdout",
     "output_type": "stream",
     "text": [
      "[Timestamp('2021-12-29 00:00:00', freq='D')]\n"
     ]
    },
    {
     "name": "stderr",
     "output_type": "stream",
     "text": [
      "/tmp/ipykernel_2850/49542209.py:16: SettingWithCopyWarning: \n",
      "A value is trying to be set on a copy of a slice from a DataFrame.\n",
      "Try using .loc[row_indexer,col_indexer] = value instead\n",
      "\n",
      "See the caveats in the documentation: https://pandas.pydata.org/pandas-docs/stable/user_guide/indexing.html#returning-a-view-versus-a-copy\n",
      "  ori['DATE'] = pd.to_datetime(ori['DATE'])\n"
     ]
    },
    {
     "data": {
      "text/plain": "<Figure size 640x480 with 1 Axes>",
      "image/png": "[encoded data removed]"
     },
     "metadata": {},
     "output_type": "display_data"
    }
   ],
   "source": [
    "import pandas as pd\n",
    "import numpy as np\n",
    "import seaborn as sns\n",
    "\n",
    "# Convert timestamp to date\n",
    "forecast_dates = []\n",
    "for time_i in predict_period_dates:\n",
    "    forecast_dates.append(time_i.date())\n",
    "\n",
    "print(predict_period_dates)\n",
    "\n",
    "df_forecast = pd.DataFrame({'DATE': np.array(forecast_dates), 'GLOBAL': original})\n",
    "df_forecast['DATE'] = pd.to_datetime(df_forecast['DATE'])\n",
    "\n",
    "ori = data_copy[['DATE', 'GLOBAL']]\n",
    "ori['DATE'] = pd.to_datetime(ori['DATE'])\n",
    "ori = ori.loc[ori['DATE'] >= '2021-01-01']\n",
    "\n",
    "pl.plot(ori['DATE'], ori['GLOBAL'], label='Dados Originais')\n",
    "pl.plot(df_forecast['DATE'], df_forecast['GLOBAL'], label='Predição')\n",
    "pl.xlabel('DATE')\n",
    "pl.ylabel('GLOBAL')\n",
    "pl.legend()\n",
    "pl.show()\n"
   ],
   "metadata": {
    "collapsed": false,
    "ExecuteTime": {
     "end_time": "2023-07-04T05:34:22.882418200Z",
     "start_time": "2023-07-04T05:34:22.772043200Z"
    }
   }
  },
  {
   "cell_type": "code",
   "execution_count": null,
   "outputs": [],
   "source": [
    "from sklearn.metrics import mean_squared_error, r2_score\n",
    "\n",
    "mse = mean_squared_error(test_y, predictions)\n",
    "r2 = r2_score(test_y, predictions)\n",
    "mape = np.mean(np.abs((test_y - predictions) / test_y)) * 100\n",
    "print('MSE: %.3f, R2: %.3f, MAPE: %.3f' % (mse, r2, mape))"
   ],
   "metadata": {
    "collapsed": false,
    "ExecuteTime": {
     "start_time": "2023-07-04T05:23:46.701623600Z"
    }
   }
  },
  {
   "cell_type": "code",
   "execution_count": null,
   "outputs": [],
   "source": [
    "print(train_dates.shape)\n",
    "print(original.shape)\n",
    "print(original_test.shape)\n",
    "\n",
    "# Plotar os resultados\n",
    "pl.plot(original,color='C0',marker='o', label='Predição')\n",
    "pl.plot(original_test,color='C1', marker='o', label='Dados Originais', alpha=0.6)\n",
    "pl.legend()\n",
    "pl.xlabel('Índice')\n",
    "pl.ylabel('Valor')\n",
    "pl.title('Dados Predição vs. Dados de Teste')\n",
    "pl.show()"
   ],
   "metadata": {
    "collapsed": false,
    "ExecuteTime": {
     "start_time": "2023-07-04T05:23:46.702620Z"
    }
   }
  },
  {
   "cell_type": "code",
   "execution_count": null,
   "outputs": [],
   "source": [],
   "metadata": {
    "collapsed": false,
    "ExecuteTime": {
     "start_time": "2023-07-04T05:23:46.703623500Z"
    }
   }
  }
 ],
 "metadata": {
  "kernelspec": {
   "display_name": "Python 3",
   "language": "python",
   "name": "python3"
  },
  "language_info": {
   "codemirror_mode": {
    "name": "ipython",
    "version": 2
   },
   "file_extension": ".py",
   "mimetype": "text/x-python",
   "name": "python",
   "nbconvert_exporter": "python",
   "pygments_lexer": "ipython2",
   "version": "2.7.6"
  }
 },
 "nbformat": 4,
 "nbformat_minor": 0
}
